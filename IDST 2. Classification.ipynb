{
 "cells": [
  {
   "cell_type": "markdown",
   "metadata": {},
   "source": [
    "# IDST2: Classification in Practise"
   ]
  },
  {
   "cell_type": "markdown",
   "metadata": {},
   "source": [
    "    1. What is machine learning?"
   ]
  },
  {
   "cell_type": "markdown",
   "metadata": {},
   "source": [
    "A computer program is said to learn from **experience E** with respect to some class of **tasks T** and **performance measure P** if its performance at tasks in T, as measured by P, improves with experience E"
   ]
  },
  {
   "cell_type": "markdown",
   "metadata": {},
   "source": [
    "    2. What is classification?"
   ]
  },
  {
   "cell_type": "markdown",
   "metadata": {},
   "source": [
    "Experience - object description and labels for this objects  \n",
    "Task - by given description guess label for object"
   ]
  },
  {
   "cell_type": "markdown",
   "metadata": {},
   "source": [
    "    3. How to do it?"
   ]
  },
  {
   "cell_type": "markdown",
   "metadata": {},
   "source": [
    "To get data:  \n",
    "https://drive.google.com/drive/folders/0By_3cvm7F4CgZVp1Njk3ZU8wZE0"
   ]
  },
  {
   "cell_type": "code",
   "execution_count": 1,
   "metadata": {
    "collapsed": false
   },
   "outputs": [
    {
     "name": "stdout",
     "output_type": "stream",
     "text": [
      "Populating the interactive namespace from numpy and matplotlib\n"
     ]
    }
   ],
   "source": [
    "%pylab inline\n",
    "import pandas as pd"
   ]
  },
  {
   "cell_type": "markdown",
   "metadata": {},
   "source": [
    "Read data from .csv file"
   ]
  },
  {
   "cell_type": "code",
   "execution_count": 2,
   "metadata": {
    "collapsed": false
   },
   "outputs": [],
   "source": [
    "csv = pd.read_csv('train_stoverflow.csv', encoding='cp1251', index_col='PostId', \n",
    "                  parse_dates=['PostCreationDate', 'OwnerCreationDate', 'PostClosedDate'], infer_datetime_format=True)"
   ]
  },
  {
   "cell_type": "code",
   "execution_count": 3,
   "metadata": {
    "collapsed": true
   },
   "outputs": [],
   "source": [
    "b"
   ]
  },
  {
   "cell_type": "code",
   "execution_count": 4,
   "metadata": {
    "collapsed": false
   },
   "outputs": [],
   "source": [
    "csv['CleanBody'] = [ removeMarkdown(x) for x in csv['BodyMarkdown']]"
   ]
  },
  {
   "cell_type": "markdown",
   "metadata": {},
   "source": [
    "Lets look what we have"
   ]
  },
  {
   "cell_type": "code",
   "execution_count": 5,
   "metadata": {
    "collapsed": false
   },
   "outputs": [
    {
     "data": {
      "text/html": [
       "<div>\n",
       "<table border=\"1\" class=\"dataframe\">\n",
       "  <thead>\n",
       "    <tr style=\"text-align: right;\">\n",
       "      <th></th>\n",
       "      <th>PostCreationDate</th>\n",
       "      <th>OwnerUserId</th>\n",
       "      <th>OwnerCreationDate</th>\n",
       "      <th>ReputationAtPostCreation</th>\n",
       "      <th>OwnerUndeletedAnswerCountAtPostTime</th>\n",
       "      <th>Title</th>\n",
       "      <th>BodyMarkdown</th>\n",
       "      <th>Tag1</th>\n",
       "      <th>Tag2</th>\n",
       "      <th>Tag3</th>\n",
       "      <th>Tag4</th>\n",
       "      <th>Tag5</th>\n",
       "      <th>PostClosedDate</th>\n",
       "      <th>OpenStatus</th>\n",
       "      <th>CleanBody</th>\n",
       "    </tr>\n",
       "    <tr>\n",
       "      <th>PostId</th>\n",
       "      <th></th>\n",
       "      <th></th>\n",
       "      <th></th>\n",
       "      <th></th>\n",
       "      <th></th>\n",
       "      <th></th>\n",
       "      <th></th>\n",
       "      <th></th>\n",
       "      <th></th>\n",
       "      <th></th>\n",
       "      <th></th>\n",
       "      <th></th>\n",
       "      <th></th>\n",
       "      <th></th>\n",
       "      <th></th>\n",
       "    </tr>\n",
       "  </thead>\n",
       "  <tbody>\n",
       "    <tr>\n",
       "      <th>1402214</th>\n",
       "      <td>2011-08-10 21:24:36</td>\n",
       "      <td>877278</td>\n",
       "      <td>2011-08-03 17:57:10</td>\n",
       "      <td>17</td>\n",
       "      <td>0</td>\n",
       "      <td>GET/Post values don't be refreshed/parsed by t...</td>\n",
       "      <td>![Get-values don't be refreshed][1]\\r\\r\\n\\r\\r\\...</td>\n",
       "      <td>php</td>\n",
       "      <td>apache</td>\n",
       "      <td>NaN</td>\n",
       "      <td>NaN</td>\n",
       "      <td>NaN</td>\n",
       "      <td>2011-08-10 21:57:14</td>\n",
       "      <td>1</td>\n",
       "      <td>![Get-values don't be refreshed][1]How you see...</td>\n",
       "    </tr>\n",
       "    <tr>\n",
       "      <th>2338671</th>\n",
       "      <td>2011-07-09 15:46:51</td>\n",
       "      <td>45954</td>\n",
       "      <td>2008-12-12 21:03:08</td>\n",
       "      <td>1757</td>\n",
       "      <td>22</td>\n",
       "      <td>Search control in Haskell</td>\n",
       "      <td>Suppose you're writing a program that searches...</td>\n",
       "      <td>search</td>\n",
       "      <td>haskell</td>\n",
       "      <td>lazy-evaluation</td>\n",
       "      <td>inference</td>\n",
       "      <td>NaN</td>\n",
       "      <td>NaT</td>\n",
       "      <td>0</td>\n",
       "      <td>Suppose you're writing a program that searches...</td>\n",
       "    </tr>\n",
       "    <tr>\n",
       "      <th>2042048</th>\n",
       "      <td>2011-05-03 15:48:34</td>\n",
       "      <td>1185829</td>\n",
       "      <td>2011-03-28 13:20:36</td>\n",
       "      <td>1</td>\n",
       "      <td>0</td>\n",
       "      <td>jQuery: event.preventdefault not working with ...</td>\n",
       "      <td>I have this bit of jQuery toggling a paragraph...</td>\n",
       "      <td>jquery</td>\n",
       "      <td>firefox</td>\n",
       "      <td>toggle</td>\n",
       "      <td>preventdefault</td>\n",
       "      <td>NaN</td>\n",
       "      <td>NaT</td>\n",
       "      <td>0</td>\n",
       "      <td>I have this bit of jQuery toggling a paragraph...</td>\n",
       "    </tr>\n",
       "    <tr>\n",
       "      <th>1672620</th>\n",
       "      <td>2011-12-07 17:28:40</td>\n",
       "      <td>1086278</td>\n",
       "      <td>2011-12-07 17:18:32</td>\n",
       "      <td>1</td>\n",
       "      <td>0</td>\n",
       "      <td>java 2 dimensional arrays</td>\n",
       "      <td>\\\\I need to look through an array from east to...</td>\n",
       "      <td>java</td>\n",
       "      <td>arrays</td>\n",
       "      <td>NaN</td>\n",
       "      <td>NaN</td>\n",
       "      <td>NaN</td>\n",
       "      <td>2011-12-07 18:33:56</td>\n",
       "      <td>4</td>\n",
       "      <td>\\\\I need to look through an array from east to...</td>\n",
       "    </tr>\n",
       "    <tr>\n",
       "      <th>3103106</th>\n",
       "      <td>2011-12-16 04:07:33</td>\n",
       "      <td>1002323</td>\n",
       "      <td>2011-10-19 00:33:34</td>\n",
       "      <td>16</td>\n",
       "      <td>2</td>\n",
       "      <td>Which interface is used to detect key events f...</td>\n",
       "      <td>I've created a simple custom dialog that asks ...</td>\n",
       "      <td>android</td>\n",
       "      <td>sdk</td>\n",
       "      <td>dialog</td>\n",
       "      <td>onkeyup</td>\n",
       "      <td>onkeydown</td>\n",
       "      <td>NaT</td>\n",
       "      <td>0</td>\n",
       "      <td>I've created a simple custom dialog that asks ...</td>\n",
       "    </tr>\n",
       "  </tbody>\n",
       "</table>\n",
       "</div>"
      ],
      "text/plain": [
       "           PostCreationDate  OwnerUserId   OwnerCreationDate  \\\n",
       "PostId                                                         \n",
       "1402214 2011-08-10 21:24:36       877278 2011-08-03 17:57:10   \n",
       "2338671 2011-07-09 15:46:51        45954 2008-12-12 21:03:08   \n",
       "2042048 2011-05-03 15:48:34      1185829 2011-03-28 13:20:36   \n",
       "1672620 2011-12-07 17:28:40      1086278 2011-12-07 17:18:32   \n",
       "3103106 2011-12-16 04:07:33      1002323 2011-10-19 00:33:34   \n",
       "\n",
       "         ReputationAtPostCreation  OwnerUndeletedAnswerCountAtPostTime  \\\n",
       "PostId                                                                   \n",
       "1402214                        17                                    0   \n",
       "2338671                      1757                                   22   \n",
       "2042048                         1                                    0   \n",
       "1672620                         1                                    0   \n",
       "3103106                        16                                    2   \n",
       "\n",
       "                                                     Title  \\\n",
       "PostId                                                       \n",
       "1402214  GET/Post values don't be refreshed/parsed by t...   \n",
       "2338671                          Search control in Haskell   \n",
       "2042048  jQuery: event.preventdefault not working with ...   \n",
       "1672620                          java 2 dimensional arrays   \n",
       "3103106  Which interface is used to detect key events f...   \n",
       "\n",
       "                                              BodyMarkdown     Tag1     Tag2  \\\n",
       "PostId                                                                         \n",
       "1402214  ![Get-values don't be refreshed][1]\\r\\r\\n\\r\\r\\...      php   apache   \n",
       "2338671  Suppose you're writing a program that searches...   search  haskell   \n",
       "2042048  I have this bit of jQuery toggling a paragraph...   jquery  firefox   \n",
       "1672620  \\\\I need to look through an array from east to...     java   arrays   \n",
       "3103106  I've created a simple custom dialog that asks ...  android      sdk   \n",
       "\n",
       "                    Tag3            Tag4       Tag5      PostClosedDate  \\\n",
       "PostId                                                                    \n",
       "1402214              NaN             NaN        NaN 2011-08-10 21:57:14   \n",
       "2338671  lazy-evaluation       inference        NaN                 NaT   \n",
       "2042048           toggle  preventdefault        NaN                 NaT   \n",
       "1672620              NaN             NaN        NaN 2011-12-07 18:33:56   \n",
       "3103106           dialog         onkeyup  onkeydown                 NaT   \n",
       "\n",
       "         OpenStatus                                          CleanBody  \n",
       "PostId                                                                  \n",
       "1402214           1  ![Get-values don't be refreshed][1]How you see...  \n",
       "2338671           0  Suppose you're writing a program that searches...  \n",
       "2042048           0  I have this bit of jQuery toggling a paragraph...  \n",
       "1672620           4  \\\\I need to look through an array from east to...  \n",
       "3103106           0  I've created a simple custom dialog that asks ...  "
      ]
     },
     "execution_count": 5,
     "metadata": {},
     "output_type": "execute_result"
    }
   ],
   "source": [
    "csv.head()"
   ]
  },
  {
   "cell_type": "markdown",
   "metadata": {},
   "source": [
    "**Hypothesis 1: text of post can give high accuracy**"
   ]
  },
  {
   "cell_type": "markdown",
   "metadata": {},
   "source": [
    "We need to represent word with number. To do this we will count number of occurrences."
   ]
  },
  {
   "cell_type": "code",
   "execution_count": 6,
   "metadata": {
    "collapsed": true
   },
   "outputs": [],
   "source": [
    "from sklearn.feature_extraction.text import CountVectorizer\n",
    "vectorizer = CountVectorizer()"
   ]
  },
  {
   "cell_type": "code",
   "execution_count": 7,
   "metadata": {
    "collapsed": true
   },
   "outputs": [],
   "source": [
    "X_train_counts = vectorizer.fit_transform(csv.CleanBody.values)"
   ]
  },
  {
   "cell_type": "markdown",
   "metadata": {},
   "source": [
    "Occurrence count is a good start but there is an issue: longer documents will have higher average count values than shorter documents, even though they might talk about the same topics."
   ]
  },
  {
   "cell_type": "code",
   "execution_count": 8,
   "metadata": {
    "collapsed": true
   },
   "outputs": [],
   "source": [
    "from sklearn.feature_extraction.text import TfidfTransformer\n",
    "tfidf_transformer = TfidfTransformer()\n",
    "X_train_tfidf = tfidf_transformer.fit_transform(X_train_counts)"
   ]
  },
  {
   "cell_type": "markdown",
   "metadata": {},
   "source": [
    "Now it is OK. We can try to build very simple model - Naive Bayes."
   ]
  },
  {
   "cell_type": "code",
   "execution_count": 9,
   "metadata": {
    "collapsed": true
   },
   "outputs": [],
   "source": [
    "from sklearn.naive_bayes import MultinomialNB\n",
    "clf = MultinomialNB().fit(X_train_tfidf, csv.OpenStatus)"
   ]
  },
  {
   "cell_type": "code",
   "execution_count": 10,
   "metadata": {
    "collapsed": false
   },
   "outputs": [
    {
     "data": {
      "text/plain": [
       "0.67600000000000005"
      ]
     },
     "execution_count": 10,
     "metadata": {},
     "output_type": "execute_result"
    }
   ],
   "source": [
    "b"
   ]
  },
  {
   "cell_type": "markdown",
   "metadata": {},
   "source": [
    "Grid search and cross validation"
   ]
  },
  {
   "cell_type": "code",
   "execution_count": 11,
   "metadata": {
    "collapsed": true
   },
   "outputs": [],
   "source": [
    "from sklearn.linear_model import SGDClassifier"
   ]
  },
  {
   "cell_type": "code",
   "execution_count": 12,
   "metadata": {
    "collapsed": true
   },
   "outputs": [],
   "source": [
    "from sklearn.grid_search import GridSearchCV"
   ]
  },
  {
   "cell_type": "code",
   "execution_count": 13,
   "metadata": {
    "collapsed": true
   },
   "outputs": [],
   "source": [
    "sgdclf = SGDClassifier(n_jobs=-1)"
   ]
  },
  {
   "cell_type": "code",
   "execution_count": 14,
   "metadata": {
    "collapsed": true
   },
   "outputs": [],
   "source": [
    "sgdgscv = GridSearchCV(sgdclf, {'loss':['hinge','log','perceptron','squared_hinge'], \n",
    "                               'penalty':['l1','l2','elasticnet'],\n",
    "                               'n_iter':[5,15,25],\n",
    "                               'shuffle':[True, False]})"
   ]
  },
  {
   "cell_type": "code",
   "execution_count": 15,
   "metadata": {
    "collapsed": false
   },
   "outputs": [
    {
     "data": {
      "text/plain": [
       "GridSearchCV(cv=None, error_score='raise',\n",
       "       estimator=SGDClassifier(alpha=0.0001, average=False, class_weight=None, epsilon=0.1,\n",
       "       eta0=0.0, fit_intercept=True, l1_ratio=0.15,\n",
       "       learning_rate='optimal', loss='hinge', n_iter=5, n_jobs=-1,\n",
       "       penalty='l2', power_t=0.5, random_state=None, shuffle=True,\n",
       "       verbose=0, warm_start=False),\n",
       "       fit_params={}, iid=True, n_jobs=1,\n",
       "       param_grid={'loss': ['hinge', 'log', 'perceptron', 'squared_hinge'], 'shuffle': [True, False], 'n_iter': [5, 15, 25], 'penalty': ['l1', 'l2', 'elasticnet']},\n",
       "       pre_dispatch='2*n_jobs', refit=True, scoring=None, verbose=0)"
      ]
     },
     "execution_count": 15,
     "metadata": {},
     "output_type": "execute_result"
    }
   ],
   "source": [
    "sgdgscv.fit(X_train_tfidf, csv.OpenStatus)"
   ]
  },
  {
   "cell_type": "code",
   "execution_count": 16,
   "metadata": {
    "collapsed": false
   },
   "outputs": [
    {
     "name": "stdout",
     "output_type": "stream",
     "text": [
      "0.700108108108 {'loss': 'hinge', 'shuffle': True, 'n_iter': 15, 'penalty': 'l2'}\n"
     ]
    }
   ],
   "source": [
    "print(sgdgscv.best_score_, sgdgscv.best_params_)"
   ]
  },
  {
   "cell_type": "markdown",
   "metadata": {},
   "source": [
    "## Predicting"
   ]
  },
  {
   "cell_type": "code",
   "execution_count": 17,
   "metadata": {
    "collapsed": true
   },
   "outputs": [],
   "source": [
    "testset = pd.read_csv('test_stoverflow.csv', encoding='cp1251', index_col='PostId', \n",
    "                      parse_dates=['PostCreationDate', 'OwnerCreationDate'], infer_datetime_format=True)"
   ]
  },
  {
   "cell_type": "code",
   "execution_count": 18,
   "metadata": {
    "collapsed": true
   },
   "outputs": [],
   "source": [
    "testset['CleanBody'] = [ removeMarkdown(x) for x in testset['BodyMarkdown']]\n",
    "X_new_counts = vectorizer.transform(testset.CleanBody.values)\n",
    "X_new_tfidf = tfidf_transformer.transform(X_new_counts)"
   ]
  },
  {
   "cell_type": "code",
   "execution_count": 19,
   "metadata": {
    "collapsed": false
   },
   "outputs": [],
   "source": [
    "Y_predicted = sgdgscv.predict(X_new_counts)"
   ]
  },
  {
   "cell_type": "code",
   "execution_count": 20,
   "metadata": {
    "collapsed": true
   },
   "outputs": [],
   "source": [
    "answer = pd.DataFrame(Y_predicted, index= testset.index)\n",
    "answer.to_csv(path_or_buf='Answer_SGD_TFIDF.csv', header=['OpenStatus'], sep = ',')"
   ]
  },
  {
   "cell_type": "markdown",
   "metadata": {},
   "source": [
    "### Useful links\n",
    "\n",
    "Nice description for ML Problem solving process\n",
    "http://machinelearningmastery.com/process-for-working-through-machine-learning-problems/\n",
    "\n",
    "How to choose sklearn algorithm?\n",
    "http://i.stack.imgur.com/BZJiN.png\n",
    "\n",
    "How to choose right classifier?\n",
    "http://blog.echen.me/2011/04/27/choosing-a-machine-learning-classifier/\n",
    "\n",
    "Kaggle\n",
    "https://www.kaggle.com/\n",
    "\n",
    "Scikit-Learn library\n",
    "http://scikit-learn.org/stable/\n",
    "\n",
    "Text data\n",
    "http://scikit-learn.org/stable/tutorial/text_analytics/working_with_text_data.html\n",
    "\n",
    "Try Jupyter\n",
    "https://try.jupyter.org/"
   ]
  }
 ],
 "metadata": {
  "kernelspec": {
   "display_name": "Python 3",
   "language": "python",
   "name": "python3"
  },
  "language_info": {
   "codemirror_mode": {
    "name": "ipython",
    "version": 3
   },
   "file_extension": ".py",
   "mimetype": "text/x-python",
   "name": "python",
   "nbconvert_exporter": "python",
   "pygments_lexer": "ipython3",
   "version": "3.5.1"
  }
 },
 "nbformat": 4,
 "nbformat_minor": 0
}
