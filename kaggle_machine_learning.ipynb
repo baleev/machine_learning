{
 "cells": [
  {
   "cell_type": "code",
   "execution_count": 1,
   "metadata": {
    "collapsed": true
   },
   "outputs": [],
   "source": [
    "import pandas as pd"
   ]
  },
  {
   "cell_type": "code",
   "execution_count": 14,
   "metadata": {
    "collapsed": false
   },
   "outputs": [
    {
     "ename": "SyntaxError",
     "evalue": "invalid syntax (<ipython-input-14-3fce3a77011d>, line 1)",
     "output_type": "error",
     "traceback": [
      "\u001b[1;36m  File \u001b[1;32m\"<ipython-input-14-3fce3a77011d>\"\u001b[1;36m, line \u001b[1;32m1\u001b[0m\n\u001b[1;33m    q-\u001b[0m\n\u001b[1;37m      ^\u001b[0m\n\u001b[1;31mSyntaxError\u001b[0m\u001b[1;31m:\u001b[0m invalid syntax\n"
     ]
    }
   ],
   "source": [
    " q-\n",
    "    0I=pv('train.csv', encoding='cp1251', index_col='PostId', parse_dates=['PostCreationDate', 'OwnerCreationDate', 'PostClosedDate', 'PostId'\n",
    "                  infer_datetime_format=True, )"
   ]
  },
  {
   "cell_type": "code",
   "execution_count": 21,
   "metadata": {
    "collapsed": false
   },
   "outputs": [],
   "source": [
    "csv = pd.read_csv('train.csv', encoding='cp1251', index_col='PostId', parse_dates=['PostCreationDate', 'OwnerCreationDate', 'PostClosedDate', 'PostId']\n",
    "                 )"
   ]
  },
  {
   "cell_type": "code",
   "execution_count": 4,
   "metadata": {
    "collapsed": false
   },
   "outputs": [
    {
     "data": {
      "text/plain": [
       "<bound method NDFrame.head of            PostCreationDate  OwnerUserId   OwnerCreationDate  \\\n",
       "PostId                                                         \n",
       "1402214 2011-08-10 21:24:36       877278 2011-08-03 17:57:10   \n",
       "2338671 2011-07-09 15:46:51        45954 2008-12-12 21:03:08   \n",
       "2042048 2011-05-03 15:48:34      1185829 2011-03-28 13:20:36   \n",
       "1672620 2011-12-07 17:28:40      1086278 2011-12-07 17:18:32   \n",
       "3103106 2011-12-16 04:07:33      1002323 2011-10-19 00:33:34   \n",
       "1666390 2012-02-06 19:01:18      1165238 2012-01-23 14:24:46   \n",
       "729675  2011-10-06 13:40:22       698262 2011-04-01 19:32:47   \n",
       "2138633 2012-03-14 23:11:46       969903 2011-09-28 19:04:29   \n",
       "3214132 2011-04-20 18:02:00       605439 2011-02-06 14:19:40   \n",
       "2635355 2008-12-07 21:31:20         1399 2008-08-14 12:14:17   \n",
       "3058556 2011-07-05 20:50:05       830550 2011-07-05 20:43:55   \n",
       "54873   2010-04-05 16:57:35       207288 2009-11-09 18:34:23   \n",
       "1553319 2010-06-14 06:37:09       314429 2010-04-12 08:06:43   \n",
       "1900213 2012-06-28 18:47:53       387885 2010-07-09 13:38:29   \n",
       "1406990 2012-06-25 06:29:50      1451032 2012-06-12 10:06:52   \n",
       "2065041 2012-04-16 08:59:25       495976 2010-11-03 11:53:34   \n",
       "113126  2012-07-24 12:40:12      1380013 2012-05-07 13:48:31   \n",
       "3195233 2011-10-12 23:17:14       992529 2011-10-12 23:02:34   \n",
       "1398272 2010-03-18 18:38:16       253567 2010-01-18 19:16:52   \n",
       "2083054 2011-04-22 01:22:47       480918 2010-10-19 17:38:13   \n",
       "2030114 2011-11-16 10:11:06       896829 2011-08-16 13:06:48   \n",
       "458057  2009-04-15 15:07:41        58348 2009-01-23 09:57:21   \n",
       "2472785 2011-01-28 18:37:22       351171 2010-05-26 15:10:42   \n",
       "1759195 2011-02-07 00:55:08       605869 2011-02-06 23:22:33   \n",
       "2091981 2011-06-01 07:00:12       709186 2011-04-15 02:52:45   \n",
       "1408457 2009-01-29 14:39:54        46757 2008-12-16 12:26:29   \n",
       "148069  2012-04-04 07:11:48        75753 2009-03-09 14:09:11   \n",
       "1014759 2011-08-06 06:00:12       840990 2011-07-12 14:00:57   \n",
       "2742925 2012-02-02 16:19:32       504828 2010-11-11 15:54:37   \n",
       "1583009 2011-11-14 16:17:39       959417 2011-09-22 14:16:20   \n",
       "...                     ...          ...                 ...   \n",
       "1909204 2010-06-26 02:34:07       375905 2010-06-25 00:06:07   \n",
       "803266  2012-05-27 09:58:16      1215740 2012-02-17 07:11:28   \n",
       "124483  2011-04-04 12:03:45       648719 2011-03-07 18:00:37   \n",
       "979610  2012-03-27 21:35:27      1296670 2012-03-27 20:35:57   \n",
       "1959171 2010-12-25 14:20:43       363228 2010-06-10 05:13:12   \n",
       "1733147 2010-07-04 15:02:59       233187 2009-12-16 15:51:16   \n",
       "2508448 2012-02-23 20:02:15      1229336 2012-02-23 19:46:47   \n",
       "2630440 2011-10-16 23:31:03       990455 2011-10-11 21:11:40   \n",
       "156217  2008-09-10 03:28:04          472 2008-08-05 04:20:27   \n",
       "254501  2012-01-24 23:17:42       684009 2011-03-30 12:31:20   \n",
       "82853   2011-04-10 21:22:31       648809 2011-03-07 19:08:30   \n",
       "2416537 2009-10-03 01:35:49       121757 2009-06-11 21:58:42   \n",
       "562411  2009-11-20 21:57:52        48193 2008-12-21 03:44:34   \n",
       "1796099 2009-11-22 00:55:52       117802 2009-06-04 22:28:21   \n",
       "1950058 2010-12-30 10:45:48       495656 2010-11-03 05:14:16   \n",
       "2248508 2010-03-24 21:35:12        71533 2009-02-26 15:18:52   \n",
       "253881  2012-04-23 20:03:54       964256 2011-09-25 22:57:17   \n",
       "2674873 2011-06-21 18:51:41       208478 2009-11-11 03:31:46   \n",
       "2758085 2011-09-17 02:34:36       520652 2010-11-25 18:49:17   \n",
       "2572063 2012-04-13 03:32:48       477028 2010-10-15 13:13:27   \n",
       "1578878 2009-12-15 15:39:57        59412 2009-01-27 11:18:00   \n",
       "654846  2009-10-26 09:09:47       160168 2009-08-20 13:45:42   \n",
       "2468025 2011-05-30 14:16:26        19440 2008-09-19 21:36:27   \n",
       "1740010 2012-03-15 12:31:18      1195450 2012-02-07 18:00:18   \n",
       "3250105 2011-06-29 08:47:28       796158 2011-06-13 14:04:49   \n",
       "3090201 2012-04-10 02:33:19      1319874 2012-04-08 00:46:27   \n",
       "115376  2011-03-04 17:26:37       627584 2010-03-01 16:37:51   \n",
       "1654178 2011-12-09 02:23:35      1060377 2011-11-22 16:58:24   \n",
       "3351064 2012-01-08 16:07:36      1137366 2012-01-08 16:03:27   \n",
       "937649  2011-10-18 11:58:21       286500 2010-03-04 15:48:54   \n",
       "\n",
       "         ReputationAtPostCreation  OwnerUndeletedAnswerCountAtPostTime  \\\n",
       "PostId                                                                   \n",
       "1402214                        17                                    0   \n",
       "2338671                      1757                                   22   \n",
       "2042048                         1                                    0   \n",
       "1672620                         1                                    0   \n",
       "3103106                        16                                    2   \n",
       "1666390                         8                                    0   \n",
       "729675                         11                                    0   \n",
       "2138633                       128                                    1   \n",
       "3214132                        80                                   12   \n",
       "2635355                     15292                                  721   \n",
       "3058556                         1                                    0   \n",
       "54873                         735                                    3   \n",
       "1553319                        18                                    3   \n",
       "1900213                       662                                   26   \n",
       "1406990                        54                                    0   \n",
       "2065041                       166                                    0   \n",
       "113126                          1                                    0   \n",
       "3195233                         1                                    0   \n",
       "1398272                       602                                   29   \n",
       "2083054                       157                                    3   \n",
       "2030114                         1                                    0   \n",
       "458057                        498                                   31   \n",
       "2472785                       132                                    7   \n",
       "1759195                         6                                    0   \n",
       "2091981                        15                                    0   \n",
       "1408457                       172                                    0   \n",
       "148069                      21745                                  817   \n",
       "1014759                         6                                    1   \n",
       "2742925                        29                                    0   \n",
       "1583009                        23                                    3   \n",
       "...                           ...                                  ...   \n",
       "1909204                         1                                    2   \n",
       "803266                         12                                    0   \n",
       "124483                         36                                    0   \n",
       "979610                          1                                    0   \n",
       "1959171                        70                                    0   \n",
       "1733147                       527                                   24   \n",
       "2508448                         1                                    0   \n",
       "2630440                        21                                    0   \n",
       "156217                        549                                   23   \n",
       "254501                       1411                                    0   \n",
       "82853                           1                                    0   \n",
       "2416537                        97                                    4   \n",
       "562411                       9834                                  610   \n",
       "1796099                       169                                   12   \n",
       "1950058                        85                                   14   \n",
       "2248508                       390                                    5   \n",
       "253881                        107                                    2   \n",
       "2674873                       465                                    7   \n",
       "2758085                        31                                    1   \n",
       "2572063                        71                                    6   \n",
       "1578878                      4482                                  206   \n",
       "654846                          9                                    0   \n",
       "2468025                       842                                   44   \n",
       "1740010                        22                                    0   \n",
       "3250105                        80                                    7   \n",
       "3090201                         1                                    0   \n",
       "115376                         92                                    5   \n",
       "1654178                        61                                    3   \n",
       "3351064                         1                                    0   \n",
       "937649                        318                                    2   \n",
       "\n",
       "                                                     Title  \\\n",
       "PostId                                                       \n",
       "1402214  GET/Post values don't be refreshed/parsed by t...   \n",
       "2338671                          Search control in Haskell   \n",
       "2042048  jQuery: event.preventdefault not working with ...   \n",
       "1672620                          java 2 dimensional arrays   \n",
       "3103106  Which interface is used to detect key events f...   \n",
       "1666390                                Own Cydia App crash   \n",
       "729675   how to remove small space in every column in f...   \n",
       "2138633                     PHP strtr does not work at all   \n",
       "3214132        Higher accuracy on placing bounding spheres   \n",
       "2635355  Is \"double hashing\" a password less secure tha...   \n",
       "3058556  Error with WP7 Silverlight - No Overload for \"...   \n",
       "54873                        Ctor not allowed return type.   \n",
       "1553319  Subsume external library into source tree with...   \n",
       "1900213           javascript check and replace two strings   \n",
       "1406990               server issue for uploading my folder   \n",
       "2065041  Does XMLConfiguration in Apache common surport...   \n",
       "113126                       Windows XP remote login issue   \n",
       "3195233                           Python: Average Rainfall   \n",
       "1398272  How to override Equals on a object created by ...   \n",
       "2083054  How is this MIPS assembly conversion of this C...   \n",
       "2030114  send argument from jsp to struts2 action class...   \n",
       "458057              SSIS - lookup surrogate key for parent   \n",
       "2472785  Can Intents/Intent Filters be used for more mu...   \n",
       "1759195                    what does the below codes do...   \n",
       "2091981       how to add a newly created node to linklist?   \n",
       "1408457                               Raw_string in Python   \n",
       "148069                 Why Asp.net MVC and not Asp.net MVP   \n",
       "1014759                              Incremental clusterig   \n",
       "2742925                       zipping files in parts in C#   \n",
       "1583009                            MySQL Primary Key Issue   \n",
       "...                                                    ...   \n",
       "1909204  Expert please be advice for this technique in OOP   \n",
       "803266                      Highlight code java in android   \n",
       "124483                     php printing a message in a div   \n",
       "979610   OpenGL 3.x .obj loader with ADS Phong \"veiny-l...   \n",
       "1959171                        Drop down table and jquery    \n",
       "1733147  Performance of C++ vs Virtual Machine language...   \n",
       "2508448                                    ajax form input   \n",
       "2630440         IE 9 does not run this jQuery if statement   \n",
       "156217   Where are people getting that rotaty loading i...   \n",
       "254501                      Resolve potential memory leaks   \n",
       "82853              Merge Sort in Mips, printing out arrays   \n",
       "2416537     How to detach a managed object from Core Data?   \n",
       "562411   Winforms RichTextBox: How can I determine how ...   \n",
       "1796099           ColdFusion Hibernate Generated Database    \n",
       "1950058                      Thread sleep and thread join.   \n",
       "2248508      regular expression: extract last 2 characters   \n",
       "253881                        Center button in custom view   \n",
       "2674873       returning GMap location object from function   \n",
       "2758085                Scripting Language vs. Java and C++   \n",
       "2572063  What are the differences of ASP.NET MVC 4 and ...   \n",
       "1578878  Changing combobox value of minimized applicati...   \n",
       "654846                               OutOFMemory exception   \n",
       "2468025                Restricting available localizations   \n",
       "1740010       how to change a dropdown menu to transparent   \n",
       "3250105          How do I debug a failed commit to github?   \n",
       "3090201                               change type using vb   \n",
       "115376           Get file upload as string (Ruby on rails)   \n",
       "1654178  How to use a service class in a controller class?   \n",
       "3351064  iphone opengl es how to add an image as the ba...   \n",
       "937649                            PHP GROUP AND SORT ARRAY   \n",
       "\n",
       "                                              BodyMarkdown  \\\n",
       "PostId                                                       \n",
       "1402214  ![Get-values don't be refreshed][1]\\r\\r\\n\\r\\r\\...   \n",
       "2338671  Suppose you're writing a program that searches...   \n",
       "2042048  I have this bit of jQuery toggling a paragraph...   \n",
       "1672620  \\\\I need to look through an array from east to...   \n",
       "3103106  I've created a simple custom dialog that asks ...   \n",
       "1666390  i build a simple Iphone App (Hello World) and ...   \n",
       "729675   I am using Flex 4. Advanced Data grid. In that...   \n",
       "2138633  Even when i type \\r\\r\\n\\r\\r\\n    echo strtr(\"-...   \n",
       "3214132  Im trying to add bounding spheres to models fo...   \n",
       "2635355  Is hashing a password twice before storage any...   \n",
       "3058556  I am new to WP7 programming and I have been fo...   \n",
       "54873    Having code:\\r\\r\\n\\r\\r\\n    struct B\\r\\r\\n    ...   \n",
       "1553319  I am developing a new project, using Autotools...   \n",
       "1900213  I have two strings `str1` and `str2`. Check bo...   \n",
       "1406990  I know the IP address, VNC Password, VNC Port,...   \n",
       "2065041  I'am using Configuration 1.6.\\r\\r\\n\\r\\r\\nI hav...   \n",
       "113126   I am trying to use automation to login to a re...   \n",
       "3195233  Write a program that uses nested loops to coll...   \n",
       "1398272  I have an Entity Data Model that I have create...   \n",
       "2083054  I have a simple question for a Comp Sci class ...   \n",
       "2030114  this is the continuation of the following  2 l...   \n",
       "458057   I have a table in my source DB that is self re...   \n",
       "2472785  I have a pretty good understanding of what Int...   \n",
       "1759195      Public Sub delay(seconds As Long)\\r\\r\\n   ...   \n",
       "2091981  here is my code, i can only add the node to th...   \n",
       "1408457  if i do :\\r\\r\\n\\r\\r\\nstring = raw_string('Ente...   \n",
       "148069   As far as theory goes it seems taht Asp.net MV...   \n",
       "1014759  please suggest some way for efficient incremen...   \n",
       "2742925  I am looking for some example which can help m...   \n",
       "1583009  need some help here.  I have been administerin...   \n",
       "...                                                    ...   \n",
       "1909204  Can u give an advice for this if its right or ...   \n",
       "803266   I get java code and xml code from file myproje...   \n",
       "124483   Can I have someone watch this for me? I want t...   \n",
       "979610   I've been trying to make my own basic .obj (Wa...   \n",
       "1959171  I'm trying to make a drop down table using jQu...   \n",
       "1733147  I thought the C/C++ vs C#/Java performance que...   \n",
       "2508448  Im trying to build a form which uses AJAX but ...   \n",
       "2630440  My script below changes a phrase of the array ...   \n",
       "156217   I keep running across this loading image\\r\\r\\n...   \n",
       "254501   I am getting the following memeory leaks after...   \n",
       "82853    I have to write a merge sort program that take...   \n",
       "2416537  In a Core Data project, I've got two buttons o...   \n",
       "562411   I have a Winforms app containing a RichTextBox...   \n",
       "1796099  Is the database generated by Hibernate when us...   \n",
       "1950058  if i put a thread to sleep in a loop, netbeans...   \n",
       "2248508  what is the best way to extract last 2 charact...   \n",
       "253881   I've searched the Internet and these forums bu...   \n",
       "2674873  I'm trying to do a simple geocode function for...   \n",
       "2758085  I was looking at some computer science videos ...   \n",
       "2572063  More details, I know there are some templates ...   \n",
       "1578878  I have a piece of closed-source third party wi...   \n",
       "654846   1) What are the possible reasons of OutofMemor...   \n",
       "2468025  Supposing I have two different languages for `...   \n",
       "1740010  I have a dropdown menu and the css is backgrou...   \n",
       "3250105  I'm new to git and github.  My first commit of...   \n",
       "3090201  piece of code :- \\r\\r\\n\\r\\r\\n\\r\\r\\n> Dim objCo...   \n",
       "115376       <h4>Upload CSV File:</h4> \\r\\r\\n    <%= fo...   \n",
       "1654178  I'm trying to integrate [this amazing calendar...   \n",
       "3351064  \\r\\r\\n\\r\\r\\nthis is a project  of opengl es, y...   \n",
       "937649   I have an array \\r\\r\\nArray\\r\\r\\n\\r\\r\\n(\\r\\r\\n...   \n",
       "\n",
       "                       Tag1                  Tag2               Tag3  \\\n",
       "PostId                                                                 \n",
       "1402214                 php                apache                NaN   \n",
       "2338671              search               haskell    lazy-evaluation   \n",
       "2042048              jquery               firefox             toggle   \n",
       "1672620                java                arrays                NaN   \n",
       "3103106             android                   sdk             dialog   \n",
       "1666390              iphone                 xcode        application   \n",
       "729675                 flex              datagrid                NaN   \n",
       "2138633                 php           translation              strtr   \n",
       "3214132                  c#                   xna                NaN   \n",
       "2635355            security                  hash                NaN   \n",
       "3058556         silverlight       windows-phone-7            twitter   \n",
       "54873                   c++           constructor                NaN   \n",
       "1553319                   c                   gcc      build-process   \n",
       "1900213          javascript                string            compare   \n",
       "1406990               linux                upload                NaN   \n",
       "2065041                java                   NaN                NaN   \n",
       "113126              windows        remote-desktop       group-policy   \n",
       "3195233              python         error-message   input-validation   \n",
       "1398272                  c#      entity-framework           override   \n",
       "2083054                   c              assembly               mips   \n",
       "2030114                ajax               struts2                NaN   \n",
       "458057           sql-server                  ssis                NaN   \n",
       "2472785             android                   NaN                NaN   \n",
       "1759195           excel-vba                   NaN                NaN   \n",
       "2091981                   c              homework                NaN   \n",
       "1408457              python            raw-string                NaN   \n",
       "148069          asp.net-mvc                   mvp                NaN   \n",
       "1014759              string      cluster-analysis                NaN   \n",
       "2742925                  c#                  .net                zip   \n",
       "1583009               mysql              triggers        primary-key   \n",
       "...                     ...                   ...                ...   \n",
       "1909204                  c#                   NaN                NaN   \n",
       "803266              android                   NaN                NaN   \n",
       "124483                  php                   NaN                NaN   \n",
       "979610                  c++                  sfml           opengl-3   \n",
       "1959171              jquery                  html              table   \n",
       "1733147                .net                   c++        performance   \n",
       "2508448                ajax                   NaN                NaN   \n",
       "2630440          javascript                jquery                NaN   \n",
       "156217                image             animation                NaN   \n",
       "254501          objective-c                   ios       memory-leaks   \n",
       "82853                arrays              homework               mips   \n",
       "2416537              iphone             core-data                NaN   \n",
       "562411             winforms           richtextbox             scroll   \n",
       "1796099          coldfusion             hibernate                NaN   \n",
       "1950058                java        multithreading                NaN   \n",
       "2248508             regular            expression                NaN   \n",
       "253881          objective-c                 xcode              cocoa   \n",
       "2674873          javascript           geolocation  google-maps-api-3   \n",
       "2758085                java                python          scripting   \n",
       "2572063                  c#                  .net        asp.net-mvc   \n",
       "1578878              autoit            autohotkey            windows   \n",
       "654846   garbage-collection  outofmemoryexception                NaN   \n",
       "2468025              iphone                   ios                NaN   \n",
       "1740010                html                   css                NaN   \n",
       "3250105                 git                github                NaN   \n",
       "3090201              vb.net                   NaN                NaN   \n",
       "115376        ruby-on-rails                   NaN                NaN   \n",
       "1654178                 php                   oop     zend-framework   \n",
       "3351064              iphone                opengl          opengl-es   \n",
       "937649                  php                   NaN                NaN   \n",
       "\n",
       "                   Tag4                     Tag5      PostClosedDate  \\\n",
       "PostId                                                                 \n",
       "1402214             NaN                      NaN 2011-08-10 21:57:14   \n",
       "2338671       inference                      NaN                 NaT   \n",
       "2042048  preventdefault                      NaN                 NaT   \n",
       "1672620             NaN                      NaN 2011-12-07 18:33:56   \n",
       "3103106         onkeyup                onkeydown                 NaT   \n",
       "1666390           cydia                      NaN                 NaT   \n",
       "729675              NaN                      NaN 2011-10-07 17:32:17   \n",
       "2138633             NaN                      NaN                 NaT   \n",
       "3214132             NaN                      NaN                 NaT   \n",
       "2635355             NaN                      NaN                 NaT   \n",
       "3058556     overloading                      NaN                 NaT   \n",
       "54873               NaN                      NaN                 NaT   \n",
       "1553319       autotools                      NaN                 NaT   \n",
       "1900213         indexof                      NaN                 NaT   \n",
       "1406990             NaN                      NaN                 NaT   \n",
       "2065041             NaN                      NaN                 NaT   \n",
       "113126              gpo  windows-xp-professional 2012-07-25 12:22:22   \n",
       "3195233             NaN                      NaN 2011-10-13 07:26:24   \n",
       "1398272             NaN                      NaN                 NaT   \n",
       "2083054             NaN                      NaN                 NaT   \n",
       "2030114             NaN                      NaN                 NaT   \n",
       "458057              NaN                      NaN                 NaT   \n",
       "2472785             NaN                      NaN                 NaT   \n",
       "1759195             NaN                      NaN 2011-02-07 04:05:47   \n",
       "2091981             NaN                      NaN                 NaT   \n",
       "1408457             NaN                      NaN                 NaT   \n",
       "148069              NaN                      NaN 2012-04-04 07:41:12   \n",
       "1014759             NaN                      NaN                 NaT   \n",
       "2742925             NaN                      NaN                 NaT   \n",
       "1583009             NaN                      NaN                 NaT   \n",
       "...                 ...                      ...                 ...   \n",
       "1909204             NaN                      NaN 2010-06-26 04:00:55   \n",
       "803266              NaN                      NaN 2012-05-31 21:29:52   \n",
       "124483              NaN                      NaN 2011-04-05 21:35:16   \n",
       "979610        wavefront                    phong                 NaT   \n",
       "1959171             NaN                      NaN                 NaT   \n",
       "1733147       real-time                  finance                 NaT   \n",
       "2508448             NaN                      NaN                 NaT   \n",
       "2630440             NaN                      NaN 2012-01-20 13:23:14   \n",
       "156217              NaN                      NaN                 NaT   \n",
       "254501              NaN                      NaN                 NaT   \n",
       "82853         mergesort                      NaN 2011-04-10 22:52:11   \n",
       "2416537             NaN                      NaN                 NaT   \n",
       "562411              NaN                      NaN                 NaT   \n",
       "1796099             NaN                      NaN                 NaT   \n",
       "1950058             NaN                      NaN                 NaT   \n",
       "2248508             NaN                      NaN                 NaT   \n",
       "253881              NaN                      NaN                 NaT   \n",
       "2674873             NaN                      NaN                 NaT   \n",
       "2758085        language     language-comparisons 2011-09-17 02:43:15   \n",
       "2572063   asp.net-mvc-3                    razor 2012-04-13 03:36:38   \n",
       "1578878             NaN                      NaN                 NaT   \n",
       "654846              NaN                      NaN                 NaT   \n",
       "2468025             NaN                      NaN                 NaT   \n",
       "1740010             NaN                      NaN                 NaT   \n",
       "3250105             NaN                      NaN                 NaT   \n",
       "3090201             NaN                      NaN 2012-04-10 19:36:16   \n",
       "115376              NaN                      NaN                 NaT   \n",
       "1654178           class       zend-framework-mvc                 NaT   \n",
       "3351064             NaN                      NaN 2012-01-09 16:24:07   \n",
       "937649              NaN                      NaN 2011-10-20 03:38:39   \n",
       "\n",
       "         OpenStatus  \n",
       "PostId               \n",
       "1402214           1  \n",
       "2338671           0  \n",
       "2042048           0  \n",
       "1672620           4  \n",
       "3103106           0  \n",
       "1666390           0  \n",
       "729675            1  \n",
       "2138633           0  \n",
       "3214132           0  \n",
       "2635355           0  \n",
       "3058556           0  \n",
       "54873             0  \n",
       "1553319           0  \n",
       "1900213           0  \n",
       "1406990           0  \n",
       "2065041           0  \n",
       "113126            3  \n",
       "3195233           4  \n",
       "1398272           0  \n",
       "2083054           0  \n",
       "2030114           0  \n",
       "458057            0  \n",
       "2472785           0  \n",
       "1759195           1  \n",
       "2091981           0  \n",
       "1408457           0  \n",
       "148069            2  \n",
       "1014759           0  \n",
       "2742925           0  \n",
       "1583009           0  \n",
       "...             ...  \n",
       "1909204           1  \n",
       "803266            1  \n",
       "124483            1  \n",
       "979610            0  \n",
       "1959171           0  \n",
       "1733147           0  \n",
       "2508448           0  \n",
       "2630440           1  \n",
       "156217            0  \n",
       "254501            0  \n",
       "82853             4  \n",
       "2416537           0  \n",
       "562411            0  \n",
       "1796099           0  \n",
       "1950058           0  \n",
       "2248508           0  \n",
       "253881            0  \n",
       "2674873           0  \n",
       "2758085           2  \n",
       "2572063           2  \n",
       "1578878           0  \n",
       "654846            0  \n",
       "2468025           0  \n",
       "1740010           0  \n",
       "3250105           0  \n",
       "3090201           1  \n",
       "115376            0  \n",
       "1654178           0  \n",
       "3351064           1  \n",
       "937649            1  \n",
       "\n",
       "[37000 rows x 14 columns]>"
      ]
     },
     "execution_count": 4,
     "metadata": {},
     "output_type": "execute_result"
    }
   ],
   "source": [
    "csv.head"
   ]
  },
  {
   "cell_type": "code",
   "execution_count": null,
   "metadata": {
    "collapsed": true
   },
   "outputs": [],
   "source": [
    "all_words = []\n",
    "\n",
    "for w in csv.BodyMarkdown.values:\n",
    "    all_words.append(w.lower())"
   ]
  },
  {
   "cell_type": "code",
   "execution_count": null,
   "metadata": {
    "collapsed": false
   },
   "outputs": [],
   "source": [
    "all_words[:2]"
   ]
  },
  {
   "cell_type": "code",
   "execution_count": null,
   "metadata": {
    "collapsed": false,
    "scrolled": true
   },
   "outputs": [],
   "source": [
    "csv.head()"
   ]
  },
  {
   "cell_type": "code",
   "execution_count": null,
   "metadata": {
    "collapsed": false
   },
   "outputs": [],
   "source": [
    "csv['Title']"
   ]
  },
  {
   "cell_type": "code",
   "execution_count": 5,
   "metadata": {
    "collapsed": true
   },
   "outputs": [],
   "source": [
    "import re\n",
    "CodeBlockPattern = re.compile(r'\\r\\r\\n\\r\\r\\n.*\\r\\r\\n\\r\\r\\n')\n",
    "def removeMarkdown(str):\n",
    "    str = re.sub(CodeBlockPattern, repl='', string = str)\n",
    "    return re.sub(r'\\r\\r\\n', repl='', string = str)"
   ]
  },
  {
   "cell_type": "code",
   "execution_count": 6,
   "metadata": {
    "collapsed": false
   },
   "outputs": [],
   "source": [
    "csv['CleanBody'] = [ removeMarkdown(x) for x in csv['BodyMarkdown']]"
   ]
  },
  {
   "cell_type": "code",
   "execution_count": 7,
   "metadata": {
    "collapsed": true
   },
   "outputs": [],
   "source": [
    "from nltk.tokenize import sent_tokenize, word_tokenize"
   ]
  },
  {
   "cell_type": "code",
   "execution_count": 8,
   "metadata": {
    "collapsed": true
   },
   "outputs": [],
   "source": [
    "import nltk\n"
   ]
  },
  {
   "cell_type": "code",
   "execution_count": 9,
   "metadata": {
    "collapsed": false
   },
   "outputs": [],
   "source": [
    "all_words = word_tokenize(str(csv.CleanBody.values))"
   ]
  },
  {
   "cell_type": "code",
   "execution_count": 10,
   "metadata": {
    "collapsed": false
   },
   "outputs": [],
   "source": [
    "all_words_f = nltk.FreqDist(all_words)"
   ]
  },
  {
   "cell_type": "code",
   "execution_count": 11,
   "metadata": {
    "collapsed": false
   },
   "outputs": [
    {
     "data": {
      "text/plain": [
       "[('=', 63),\n",
       " ('[', 63),\n",
       " (']', 63),\n",
       " ('>', 60),\n",
       " ('(', 30),\n",
       " (')', 30),\n",
       " (',', 21),\n",
       " ('of', 14),\n",
       " ('the', 14),\n",
       " ('OWNER', 13),\n",
       " ('cnt', 12),\n",
       " ('ST_STATUS', 12),\n",
       " ('sub', 12),\n",
       " ('Array', 11),\n",
       " ('to', 10)]"
      ]
     },
     "execution_count": 11,
     "metadata": {},
     "output_type": "execute_result"
    }
   ],
   "source": [
    "all_words_f.most_common(15)"
   ]
  },
  {
   "cell_type": "code",
   "execution_count": 12,
   "metadata": {
    "collapsed": false
   },
   "outputs": [],
   "source": [
    "word_features = list(all_words)[:3000]"
   ]
  },
  {
   "cell_type": "code",
   "execution_count": null,
   "metadata": {
    "collapsed": true
   },
   "outputs": [],
   "source": [
    "documents = [(list(csv.CleanBody(PostId)), csv.OpenStatus\n",
    "             for category in csv.OpenStatus\n",
    "             for fileid in movie_reviews.fileids(category)]"
   ]
  },
  {
   "cell_type": "code",
   "execution_count": null,
   "metadata": {
    "collapsed": false
   },
   "outputs": [],
   "source": [
    "def find_features(document):\n",
    "    words = set(document)\n",
    "    features = {}\n",
    "    for w in word_features:\n",
    "        features[w] = (w in words)\n",
    "\n",
    "    return features"
   ]
  },
  {
   "cell_type": "code",
   "execution_count": null,
   "metadata": {
    "collapsed": true
   },
   "outputs": [],
   "source": [
    "featuresets = [(find_features(all_words), csv.Title) for (rev, category) in documents]"
   ]
  },
  {
   "cell_type": "code",
   "execution_count": null,
   "metadata": {
    "collapsed": true
   },
   "outputs": [],
   "source": [
    "from sklearn import metrics"
   ]
  },
  {
   "cell_type": "code",
   "execution_count": null,
   "metadata": {
    "collapsed": false,
    "scrolled": true
   },
   "outputs": [],
   "source": [
    "# make predictions\n",
    "expected = csv.OpenStatus\n",
    "predicted = model.predict(X_train_counts)\n",
    "# summarize the fit of the model\n",
    "print(metrics.classification_report(expected, predicted))"
   ]
  },
  {
   "cell_type": "code",
   "execution_count": null,
   "metadata": {
    "collapsed": true
   },
   "outputs": [],
   "source": [
    "from sklearn.feature_selection import RFE\n",
    "from sklearn.linear_model import LogisticRegression\n",
    "model = LogisticRegression()\n"
   ]
  },
  {
   "cell_type": "code",
   "execution_count": null,
   "metadata": {
    "collapsed": true
   },
   "outputs": [],
   "source": [
    "# create the RFE model and select 3 attributes\n",
    "rfe = RFE(model, 3)\n"
   ]
  },
  {
   "cell_type": "code",
   "execution_count": null,
   "metadata": {
    "collapsed": false,
    "scrolled": true
   },
   "outputs": [],
   "source": [
    "rfe = rfe.fit(X_train_tfidf, csv.OpenStatus)"
   ]
  },
  {
   "cell_type": "code",
   "execution_count": null,
   "metadata": {
    "collapsed": true
   },
   "outputs": [],
   "source": [
    "print(\"a\")"
   ]
  },
  {
   "cell_type": "code",
   "execution_count": null,
   "metadata": {
    "collapsed": true
   },
   "outputs": [],
   "source": [
    "#from sklearn.grid_search import GridSearchCV\n",
    "#from sklearn.neighbors import KNeighborsClassifier\n",
    "#from sklearn.cross_validation import cross_val_score"
   ]
  },
  {
   "cell_type": "code",
   "execution_count": null,
   "metadata": {
    "collapsed": false
   },
   "outputs": [],
   "source": [
    "#from sklearn.naive_bayes import BernoulliNB as bnb\n",
    "#clf = bnb().fit(X_train_tfidf, csv.OpenStatus)"
   ]
  },
  {
   "cell_type": "code",
   "execution_count": null,
   "metadata": {
    "collapsed": false
   },
   "outputs": [],
   "source": [
    "#clf.score(X_train_tfidf, csv.OpenStatus)"
   ]
  },
  {
   "cell_type": "code",
   "execution_count": null,
   "metadata": {
    "collapsed": true
   },
   "outputs": [],
   "source": [
    "#from sklearn.linear_model import SGDClassifier\n",
    "#sgdclf = SGDClassifier(n_jobs=-1)\n",
    "\n"
   ]
  },
  {
   "cell_type": "code",
   "execution_count": null,
   "metadata": {
    "collapsed": true
   },
   "outputs": [],
   "source": [
    "sgdgscv = GridSearchCV(sgdclf, {'loss':['hinge','log','perceptron','squared_hinge'], \n",
    "                               'penalty':['l1','l2','elasticnet'],\n",
    "                               'n_iter':[5,15,25],\n",
    "                               'shuffle':[True, False]})"
   ]
  },
  {
   "cell_type": "code",
   "execution_count": null,
   "metadata": {
    "collapsed": false
   },
   "outputs": [],
   "source": [
    "sgdgscv.fit(X_train_tfidf, csv.OpenStatus)"
   ]
  },
  {
   "cell_type": "code",
   "execution_count": null,
   "metadata": {
    "collapsed": false
   },
   "outputs": [],
   "source": [
    "print(sgdgscv.best_score_, sgdgscv.best_params_)"
   ]
  },
  {
   "cell_type": "code",
   "execution_count": null,
   "metadata": {
    "collapsed": false
   },
   "outputs": [],
   "source": [
    "parameters = {\n",
    "              'alpha': [0.0, 0.5, 1.0],\n",
    "              'binarize': [None, 0.2, 0.5, 0.7, 1.0],\n",
    "              'fit_prior': [True, False]}\n",
    "\n",
    "grid = GridSearchCV(clf, parameters, scoring='accuracy', cv=2, verbose=1)\n",
    "grid.fit(X_train_tfidf, csv.OpenStatus)"
   ]
  },
  {
   "cell_type": "code",
   "execution_count": null,
   "metadata": {
    "collapsed": false
   },
   "outputs": [],
   "source": [
    "print('Best score:', grid.best_score_)\n",
    "print('Best parameters:', grid.best_params_)\n"
   ]
  },
  {
   "cell_type": "code",
   "execution_count": null,
   "metadata": {
    "collapsed": true
   },
   "outputs": [],
   "source": [
    "train2 = csv['Title'] + csv.BodyMarkdown"
   ]
  },
  {
   "cell_type": "code",
   "execution_count": null,
   "metadata": {
    "collapsed": true
   },
   "outputs": [],
   "source": [
    "X_train_counts2 = bigram_vectorizer.fit_transform(train2)"
   ]
  },
  {
   "cell_type": "code",
   "execution_count": null,
   "metadata": {
    "collapsed": false
   },
   "outputs": [],
   "source": [
    "from sklearn.naive_bayes import MultinomialNB\n",
    "mnb = MultinomialNB().fit(train, csv.OpenStatus)"
   ]
  },
  {
   "cell_type": "code",
   "execution_count": null,
   "metadata": {
    "collapsed": false
   },
   "outputs": [],
   "source": [
    "mnb.score(X_train_counts2, csv.OpenStatus)"
   ]
  },
  {
   "cell_type": "code",
   "execution_count": null,
   "metadata": {
    "collapsed": false
   },
   "outputs": [],
   "source": [
    "from sklearn.linear_model import SGDClassifier\n",
    "sgdclf = SGDClassifier(n_jobs=-1)\n",
    "sgdgscv = GridSearchCV(sgdclf, {'loss':['hinge','log','perceptron','squared_hinge'], \n",
    "                               'penalty':['l1','l2','elasticnet'],\n",
    "                               'n_iter':[5,15,25],\n",
    "                               'shuffle':[True, False]})\n"
   ]
  },
  {
   "cell_type": "code",
   "execution_count": null,
   "metadata": {
    "collapsed": false
   },
   "outputs": [],
   "source": [
    "sgdgscv.fit(X_train_tfidf, csv.OpenStatus)"
   ]
  },
  {
   "cell_type": "code",
   "execution_count": null,
   "metadata": {
    "collapsed": true
   },
   "outputs": [],
   "source": [
    "print(sgdgscv.best_score_, sgdgscv.best_params_)"
   ]
  },
  {
   "cell_type": "code",
   "execution_count": null,
   "metadata": {
    "collapsed": true
   },
   "outputs": [],
   "source": [
    "from sklearn.neighbors import KNeighborsClassifier\n",
    "from sklearn.cross_validation import cross_val_score\n",
    "from sklearn.linear_model import LogisticRegression\n",
    "from sklearn.linear_model import LinearRegression"
   ]
  },
  {
   "cell_type": "code",
   "execution_count": null,
   "metadata": {
    "collapsed": true
   },
   "outputs": [],
   "source": []
  },
  {
   "cell_type": "code",
   "execution_count": null,
   "metadata": {
    "collapsed": false
   },
   "outputs": [],
   "source": [
    "# 10-fold cross-validation with K=5 for KNN (the n_neighbors parameter)\n",
    "knn = KNeighborsClassifier(n_neighbors=30)\n",
    "lm = LinearRegression()\n"
   ]
  },
  {
   "cell_type": "code",
   "execution_count": null,
   "metadata": {
    "collapsed": false
   },
   "outputs": [],
   "source": [
    "scores = cross_val_score(lm,X_train_counts,  csv.OpenStatus, cv=10, scoring='accuracy')"
   ]
  },
  {
   "cell_type": "code",
   "execution_count": null,
   "metadata": {
    "collapsed": false
   },
   "outputs": [],
   "source": [
    "print(scores)"
   ]
  },
  {
   "cell_type": "code",
   "execution_count": null,
   "metadata": {
    "collapsed": false
   },
   "outputs": [],
   "source": [
    "print(scores.mean())"
   ]
  },
  {
   "cell_type": "markdown",
   "metadata": {
    "collapsed": true
   },
   "source": [
    "### predicting "
   ]
  },
  {
   "cell_type": "code",
   "execution_count": null,
   "metadata": {
    "collapsed": false
   },
   "outputs": [],
   "source": [
    "testset = pd.read_csv('test.csv', encoding='cp1251', index_col='PostId', \n",
    "                      parse_dates=['PostCreationDate', 'OwnerCreationDate'], infer_datetime_format=True)"
   ]
  },
  {
   "cell_type": "code",
   "execution_count": null,
   "metadata": {
    "collapsed": false
   },
   "outputs": [],
   "source": [
    "testset['CleanBody'] = [ removeMarkdown(x) for x in testset['BodyMarkdown']]\n",
    "X_new_counts = vectorizer.transform(testset.CleanBody.values)\n",
    "X_new_tfidf = tfidf_transformer.transform(X_new_counts)"
   ]
  },
  {
   "cell_type": "code",
   "execution_count": null,
   "metadata": {
    "collapsed": true
   },
   "outputs": [],
   "source": [
    "test = testset.Title"
   ]
  },
  {
   "cell_type": "code",
   "execution_count": null,
   "metadata": {
    "collapsed": true
   },
   "outputs": [],
   "source": [
    "X_test_counts = bigram_vectorizer.transform(test)"
   ]
  },
  {
   "cell_type": "code",
   "execution_count": null,
   "metadata": {
    "collapsed": false
   },
   "outputs": [],
   "source": [
    "Y_predicted = model.predict(X_test_counts)"
   ]
  },
  {
   "cell_type": "code",
   "execution_count": null,
   "metadata": {
    "collapsed": true
   },
   "outputs": [],
   "source": [
    "answer = pd.DataFrame(Y_predicted, index= testset.index)\n",
    "answer.to_csv(path_or_buf='Answer_TFIDF.csv', header=['OpenStatus'], sep = ',')"
   ]
  },
  {
   "cell_type": "code",
   "execution_count": null,
   "metadata": {
    "collapsed": true
   },
   "outputs": [],
   "source": []
  }
 ],
 "metadata": {
  "kernelspec": {
   "display_name": "Python 3",
   "language": "python",
   "name": "python3"
  },
  "language_info": {
   "codemirror_mode": {
    "name": "ipython",
    "version": 3
   },
   "file_extension": ".py",
   "mimetype": "text/x-python",
   "name": "python",
   "nbconvert_exporter": "python",
   "pygments_lexer": "ipython3",
   "version": "3.5.1"
  }
 },
 "nbformat": 4,
 "nbformat_minor": 0
}
