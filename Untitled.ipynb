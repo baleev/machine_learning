{
 "cells": [
  {
   "cell_type": "code",
   "execution_count": 2,
   "metadata": {
    "collapsed": false
   },
   "outputs": [
    {
     "name": "stdout",
     "output_type": "stream",
     "text": [
      "0 понедельник\n",
      "\n",
      "1 вторник\n",
      "\n",
      "2 среда\n",
      "\n",
      "3 четверг\n",
      "\n",
      "4 пятница\n",
      "\n",
      "5 суббота\n",
      "\n",
      "6 воскресенье\n",
      "\n"
     ]
    }
   ],
   "source": [
    "spisok = ['понедельник',\n",
    "          'вторник',\n",
    "          'среда',\n",
    "          'четверг',\n",
    "          'пятница',\n",
    "          'суббота',\n",
    "          'воскресенье']\n",
    "#enumerate - ф-ция позволяет\n",
    "#раскладывать список на порядковые\n",
    "#номера и соответсвующие им элементы\n",
    "\n",
    "for index, string in enumerate(spisok):\n",
    "    print (index, string +\"\\n\") #выводим пор.номера и элементы"
   ]
  }
 ],
 "metadata": {
  "kernelspec": {
   "display_name": "Python 3",
   "language": "python",
   "name": "python3"
  },
  "language_info": {
   "codemirror_mode": {
    "name": "ipython",
    "version": 3
   },
   "file_extension": ".py",
   "mimetype": "text/x-python",
   "name": "python",
   "nbconvert_exporter": "python",
   "pygments_lexer": "ipython3",
   "version": "3.5.1"
  }
 },
 "nbformat": 4,
 "nbformat_minor": 0
}
