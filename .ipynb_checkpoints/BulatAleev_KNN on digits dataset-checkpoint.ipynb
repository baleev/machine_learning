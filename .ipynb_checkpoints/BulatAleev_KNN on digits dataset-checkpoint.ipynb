{
 "cells": [
  {
   "cell_type": "markdown",
   "metadata": {},
   "source": [
    "**Task:** K-NN optimization for digits recognition task.\n",
    "\n",
    "[Data description](http://scikit-learn.org/stable/modules/generated/sklearn.datasets.load_digits.html#sklearn.datasets.load_digits)\n",
    "\n",
    "**Deadline:** due 23:59 16.09.2016\n",
    "\n",
    "Please add your surname to the name of this ipynb file"
   ]
  },
  {
   "cell_type": "code",
   "execution_count": 1,
   "metadata": {
    "collapsed": false
   },
   "outputs": [
    {
     "name": "stdout",
     "output_type": "stream",
     "text": [
      "Populating the interactive namespace from numpy and matplotlib\n"
     ]
    }
   ],
   "source": [
    "%pylab inline"
   ]
  },
  {
   "cell_type": "code",
   "execution_count": 2,
   "metadata": {
    "collapsed": false
   },
   "outputs": [],
   "source": [
    "import sklearn as skl\n",
    "import pandas as pd\n",
    "import sklearn\n",
    "\n",
    "from sklearn import datasets\n",
    "from sklearn.neighbors import KNeighborsClassifier"
   ]
  },
  {
   "cell_type": "code",
   "execution_count": 3,
   "metadata": {
    "collapsed": false
   },
   "outputs": [],
   "source": [
    "pd.options.display.max_colwidth=100\n",
    "np.set_printoptions(linewidth=140,edgeitems=10)\n",
    "pd.set_option('display.max_rows', 500)\n",
    "pd.set_option('display.max_columns', 500)\n",
    "pd.set_option('display.width', 1000)\n",
    "rcParams['figure.figsize'] = (8.0, 5.0)"
   ]
  },
  {
   "cell_type": "code",
   "execution_count": 4,
   "metadata": {
    "collapsed": false
   },
   "outputs": [],
   "source": [
    "digits = datasets.load_digits() # load data"
   ]
  },
  {
   "cell_type": "code",
   "execution_count": 5,
   "metadata": {
    "collapsed": false,
    "scrolled": true
   },
   "outputs": [
    {
     "name": "stdout",
     "output_type": "stream",
     "text": [
      "Optical Recognition of Handwritten Digits Data Set\n",
      "===================================================\n",
      "\n",
      "Notes\n",
      "-----\n",
      "Data Set Characteristics:\n",
      "    :Number of Instances: 5620\n",
      "    :Number of Attributes: 64\n",
      "    :Attribute Information: 8x8 image of integer pixels in the range 0..16.\n",
      "    :Missing Attribute Values: None\n",
      "    :Creator: E. Alpaydin (alpaydin\n"
     ]
    }
   ],
   "source": [
    "print(digits.DESCR[:350])"
   ]
  },
  {
   "cell_type": "code",
   "execution_count": 6,
   "metadata": {
    "collapsed": false
   },
   "outputs": [
    {
     "name": "stdout",
     "output_type": "stream",
     "text": [
      "[[  0.   0.   5.  13.   9.   1.   0.   0.   0.   0.  13.  15.  10.  15.   5.   0.   0.   3.  15.   2.   0.  11.   8.   0.   0.   4.  12.\n",
      "    0.   0.   8.   8.   0.   0.   5.   8.   0.   0.   9.   8.   0.   0.   4.  11.   0.   1.  12.   7.   0.   0.   2.  14.   5.  10.  12.\n",
      "    0.   0.   0.   0.   6.  13.  10.   0.   0.   0.]\n",
      " [  0.   0.   0.  12.  13.   5.   0.   0.   0.   0.   0.  11.  16.   9.   0.   0.   0.   0.   3.  15.  16.   6.   0.   0.   0.   7.  15.\n",
      "   16.  16.   2.   0.   0.   0.   0.   1.  16.  16.   3.   0.   0.   0.   0.   1.  16.  16.   6.   0.   0.   0.   0.   1.  16.  16.   6.\n",
      "    0.   0.   0.   0.   0.  11.  16.  10.   0.   0.]]\n"
     ]
    }
   ],
   "source": [
    "print(digits.data[:2])"
   ]
  },
  {
   "cell_type": "code",
   "execution_count": 7,
   "metadata": {
    "collapsed": false
   },
   "outputs": [
    {
     "data": {
      "text/plain": [
       "['data', 'images', 'target', 'target_names', 'DESCR']"
      ]
     },
     "execution_count": 7,
     "metadata": {},
     "output_type": "execute_result"
    }
   ],
   "source": [
    "list(digits.keys())\n",
    "# images - images, corresponding to each object\n",
    "# target_names - class names\n",
    "# target - vector of classes\n",
    "# data - design matrix (objects vs. features) features is linearized image-matrix.\n",
    "# DESCR - data description"
   ]
  },
  {
   "cell_type": "code",
   "execution_count": 8,
   "metadata": {
    "collapsed": false
   },
   "outputs": [
    {
     "data": {
      "text/plain": [
       "array([0, 1, 2, 3, 4, 5, 6, 7, 8, 9])"
      ]
     },
     "execution_count": 8,
     "metadata": {},
     "output_type": "execute_result"
    }
   ],
   "source": [
    "digits.target_names # classes correspond to digits, dispayed on images"
   ]
  },
  {
   "cell_type": "code",
   "execution_count": 9,
   "metadata": {
    "collapsed": false
   },
   "outputs": [
    {
     "data": {
      "text/plain": [
       "array([0, 1, 2, 3, 4, 5, 6, 7, 8, 9, ..., 5, 4, 8, 8, 4, 9, 0, 8, 9, 8])"
      ]
     },
     "execution_count": 9,
     "metadata": {},
     "output_type": "execute_result"
    }
   ],
   "source": [
    "digits.target # vector of classes"
   ]
  },
  {
   "cell_type": "markdown",
   "metadata": {},
   "source": [
    "# Tasks:"
   ]
  },
  {
   "cell_type": "markdown",
   "metadata": {},
   "source": [
    "## 1.Visualize first 5 objects as images"
   ]
  },
  {
   "cell_type": "markdown",
   "metadata": {},
   "source": [
    "You may use function **imshow**"
   ]
  },
  {
   "cell_type": "code",
   "execution_count": 10,
   "metadata": {
    "collapsed": false
   },
   "outputs": [
    {
     "data": {
      "image/png": "[encoded data removed]",
      "text/plain": [
       "<matplotlib.figure.Figure at 0x58580d47b8>"
      ]
     },
     "metadata": {},
     "output_type": "display_data"
    }
   ],
   "source": [
    "images_and_labels = list(zip(digits.images, digits.target))\n",
    "for index, (image, label) in enumerate(images_and_labels[:5]):\n",
    "    plt.subplot(2, 4, index + 1)\n",
    "    plt.axis('off')\n",
    "    plt.imshow(image, cmap=plt.cm.gray_r, interpolation='nearest')\n",
    "    plt.title('Training: %i' % label)"
   ]
  },
  {
   "cell_type": "markdown",
   "metadata": {},
   "source": [
    "# Shuffle objects and divide them into two equal parts - train and test"
   ]
  },
  {
   "cell_type": "code",
   "execution_count": 29,
   "metadata": {
    "collapsed": false
   },
   "outputs": [
    {
     "data": {
      "text/plain": [
       "1797"
      ]
     },
     "execution_count": 29,
     "metadata": {},
     "output_type": "execute_result"
    }
   ],
   "source": [
    "len(digits.images)\n"
   ]
  },
  {
   "cell_type": "code",
   "execution_count": 12,
   "metadata": {
    "collapsed": false
   },
   "outputs": [],
   "source": [
    "N=len(digits.data)\n",
    "digits.index=arange(N)\n",
    "\n",
    "inds = arange(N)\n",
    "np.random.seed(0)\n",
    "np.random.shuffle(inds)\n",
    "\n",
    "N1 = int(0.5*N)\n",
    "\n",
    "train_inds = inds[:N1]\n",
    "test_inds = inds[N1:]"
   ]
  },
  {
   "cell_type": "code",
   "execution_count": 13,
   "metadata": {
    "collapsed": false
   },
   "outputs": [],
   "source": [
    "import numpy as np\n",
    "data = digits.images.reshape((N, -1))\n",
    "y = digits.target"
   ]
  },
  {
   "cell_type": "code",
   "execution_count": 33,
   "metadata": {
    "collapsed": false
   },
   "outputs": [],
   "source": [
    "# We learn the digits on the first half of the digits\n",
    "X_train = data[train_inds]\n",
    "y_train = digits.target[train_inds]"
   ]
  },
  {
   "cell_type": "code",
   "execution_count": 15,
   "metadata": {
    "collapsed": false
   },
   "outputs": [],
   "source": [
    "knn = KNeighborsClassifier()"
   ]
  },
  {
   "cell_type": "code",
   "execution_count": 16,
   "metadata": {
    "collapsed": false
   },
   "outputs": [
    {
     "data": {
      "text/plain": [
       "KNeighborsClassifier(algorithm='auto', leaf_size=30, metric='minkowski',\n",
       "           metric_params=None, n_jobs=1, n_neighbors=5, p=2,\n",
       "           weights='uniform')"
      ]
     },
     "execution_count": 16,
     "metadata": {},
     "output_type": "execute_result"
    }
   ],
   "source": [
    "knn.fit(X_train, y_train)"
   ]
  },
  {
   "cell_type": "code",
   "execution_count": null,
   "metadata": {
    "collapsed": true
   },
   "outputs": [],
   "source": []
  },
  {
   "cell_type": "markdown",
   "metadata": {},
   "source": [
    "### 3.Plot how error-rate depends on the number of nearest neighbours for K-NN method"
   ]
  },
  {
   "cell_type": "markdown",
   "metadata": {},
   "source": [
    "You should use [K-NN from scikit-learn](http://scikit-learn.org/stable/modules/generated/sklearn.neighbors.KNeighborsClassifier.html#sklearn.neighbors.KNeighborsClassifier) "
   ]
  },
  {
   "cell_type": "code",
   "execution_count": 17,
   "metadata": {
    "collapsed": false
   },
   "outputs": [],
   "source": [
    "from sklearn import metrics\n",
    "\n",
    "def knnclass_error_rate(num):\n",
    "    knn = KNeighborsClassifier(n_neighbors=num)\n",
    "\n",
    "    knn.fit(X_train, y_train)\n",
    "    y_test = digits.target[test_inds]\n",
    "    y_pred = knn.predict(data[test_inds])\n",
    "   \n",
    "    ans = 1 - metrics.accuracy_score(y_test, y_pred)\n",
    "    return (ans)\n",
    "\n",
    "def knnclass_error_rate_Minkow(num):\n",
    "   \n",
    "    knn = KNeighborsClassifier(n_neighbors=5, weights='distance', metric='minkowski', p=num)\n",
    "\n",
    "    knn.fit(X_train, y_train)\n",
    "    y_test = digits.target[test_inds]\n",
    "    y_pred = knn.predict(data[test_inds])\n",
    "   \n",
    "    ans = 1 - metrics.accuracy_score(y_test, y_pred)\n",
    "    return (ans)"
   ]
  },
  {
   "cell_type": "code",
   "execution_count": 18,
   "metadata": {
    "collapsed": false
   },
   "outputs": [],
   "source": [
    "import numpy as np\n",
    "y=[]\n",
    "x=[]\n",
    "for i in range(1,20):\n",
    "    h = format(knnclass_error_rate(i), '.3f')\n",
    "    y.append(h)\n",
    "    x.append(i)\n",
    "y = np.array(y)\n",
    "x = np.array(x)"
   ]
  },
  {
   "cell_type": "code",
   "execution_count": 19,
   "metadata": {
    "collapsed": false,
    "scrolled": true
   },
   "outputs": [
    {
     "data": {
      "text/plain": [
       "<function matplotlib.pyplot.show>"
      ]
     },
     "execution_count": 19,
     "metadata": {},
     "output_type": "execute_result"
    },
    {
     "data": {
      "image/png": "[encoded data removed]",
      "text/plain": [
       "<matplotlib.figure.Figure at 0x58582a4208>"
      ]
     },
     "metadata": {},
     "output_type": "display_data"
    }
   ],
   "source": [
    "plt.xlabel('Number of Neighbours')\n",
    "plt.ylabel('Error rate')\n",
    "plt.plot(x, y, label='E.rate according to the # of neighbours')\n",
    "plt.legend()\n",
    "plt.show"
   ]
  },
  {
   "cell_type": "code",
   "execution_count": 20,
   "metadata": {
    "collapsed": false
   },
   "outputs": [],
   "source": [
    "knn = KNeighborsClassifier(n_neighbors=5)\n",
    "knn.fit(X_train,y_train)\n",
    "# Now predict the value of the digit on the second half:\n",
    "X_test = data[test_inds]\n",
    "y_test = digits.target[test_inds]\n",
    "y_pred = knn.predict(X_test)"
   ]
  },
  {
   "cell_type": "code",
   "execution_count": 21,
   "metadata": {
    "collapsed": false
   },
   "outputs": [
    {
     "name": "stdout",
     "output_type": "stream",
     "text": [
      "0.98553948832\n"
     ]
    }
   ],
   "source": [
    "\n",
    "print(metrics.accuracy_score(y_test, y_pred))"
   ]
  },
  {
   "cell_type": "code",
   "execution_count": 22,
   "metadata": {
    "collapsed": false
   },
   "outputs": [
    {
     "data": {
      "text/plain": [
       "0.98553948832035598"
      ]
     },
     "execution_count": 22,
     "metadata": {},
     "output_type": "execute_result"
    }
   ],
   "source": [
    "knn = KNeighborsClassifier(n_neighbors=5, weights='uniform', algorithm='auto', leaf_size=30, p=2)\n",
    "knn.fit(X_train,y_train)\n",
    "Y_hat = knn.predict(X_test)\n",
    "P_hat = knn.predict_proba(X_test)[:,1]\n",
    "skl.metrics.accuracy_score(y_test, Y_hat)"
   ]
  },
  {
   "cell_type": "markdown",
   "metadata": {},
   "source": [
    "### 3a.Which number of neighbours is optimal?"
   ]
  },
  {
   "cell_type": "markdown",
   "metadata": {},
   "source": [
    "### 5 is optimal"
   ]
  },
  {
   "cell_type": "markdown",
   "metadata": {},
   "source": [
    "### 4.Plot how error-rate depends on the p parameter for Minkowski metric in K-NN?"
   ]
  },
  {
   "cell_type": "code",
   "execution_count": 23,
   "metadata": {
    "collapsed": false
   },
   "outputs": [
    {
     "data": {
      "text/plain": [
       "KNeighborsClassifier(algorithm='auto', leaf_size=30, metric='minkowski',\n",
       "           metric_params=None, n_jobs=1, n_neighbors=5, p=2,\n",
       "           weights='distance')"
      ]
     },
     "execution_count": 23,
     "metadata": {},
     "output_type": "execute_result"
    }
   ],
   "source": [
    "clf = KNeighborsClassifier(n_neighbors=5, weights='distance', metric='minkowski', p=2)\n",
    "clf.fit(X_train,y_train)"
   ]
  },
  {
   "cell_type": "code",
   "execution_count": 24,
   "metadata": {
    "collapsed": false
   },
   "outputs": [],
   "source": [
    "yp=[]\n",
    "xp=[]\n",
    "for i in range(1,20):\n",
    "    h = format(knnclass_error_rate_Minkow(i), '.3f')\n",
    "    yp.append(h)\n",
    "    xp.append(i)\n",
    "    \n",
    "yp = np.array(yp)\n",
    "xp = np.array(xp)"
   ]
  },
  {
   "cell_type": "code",
   "execution_count": 25,
   "metadata": {
    "collapsed": false
   },
   "outputs": [
    {
     "data": {
      "text/plain": [
       "<function matplotlib.pyplot.show>"
      ]
     },
     "execution_count": 25,
     "metadata": {},
     "output_type": "execute_result"
    },
    {
     "data": {
      "image/png": "[encoded data removed]",
      "text/plain": [
       "<matplotlib.figure.Figure at 0x5858307f28>"
      ]
     },
     "metadata": {},
     "output_type": "display_data"
    }
   ],
   "source": [
    "plt.xlabel('value of P')\n",
    "plt.ylabel('Error rate')\n",
    "plt.plot(xp, yp, label='E.rate according to the # of p')\n",
    "plt.legend()\n",
    "plt.show"
   ]
  },
  {
   "cell_type": "markdown",
   "metadata": {},
   "source": [
    "### 4а.Which number p is optimal?"
   ]
  },
  {
   "cell_type": "markdown",
   "metadata": {},
   "source": [
    "### 2 is optimal "
   ]
  },
  {
   "cell_type": "markdown",
   "metadata": {},
   "source": [
    "### 5.Find optimal pair (number of neighbours, p) for K-NN using cross-validation"
   ]
  },
  {
   "cell_type": "markdown",
   "metadata": {},
   "source": [
    "You may use **skl.grid_search.GridSearchCV**"
   ]
  },
  {
   "cell_type": "markdown",
   "metadata": {},
   "source": [
    "Is found pair the same as a optimal numbe rof neighbours and p found in previous task? Why?"
   ]
  },
  {
   "cell_type": "code",
   "execution_count": 38,
   "metadata": {
    "collapsed": false
   },
   "outputs": [
    {
     "name": "stdout",
     "output_type": "stream",
     "text": [
      "1797\n"
     ]
    }
   ],
   "source": [
    "from sklearn.grid_search import GridSearchCV\n",
    "\n",
    "from sklearn.cross_validation import train_test_split\n",
    "data = digits.images.reshape((N, -1))\n",
    "y = digits.target\n",
    "\n",
    "X_train, X_test, y_train, y_test = train_test_split(data, y, random_state=1)\n",
    "\n",
    "clf = KNeighborsClassifier(n_neighbors=5, p=2)\n",
    "param_grid = {'n_neighbors':[1,3,5,8,10,15,20,50], 'p':[1,2,4,6]}\n",
    "clf = GridSearchCV(clf, param_grid, n_jobs=-1, refit=True)"
   ]
  },
  {
   "cell_type": "code",
   "execution_count": 39,
   "metadata": {
    "collapsed": false,
    "scrolled": false
   },
   "outputs": [
    {
     "data": {
      "text/plain": [
       "(0.97921306607275427, {'n_neighbors': 1, 'p': 2})"
      ]
     },
     "execution_count": 39,
     "metadata": {},
     "output_type": "execute_result"
    }
   ],
   "source": [
    "clf.fit(X_train,y_train)\n",
    "clf.best_score_, clf.best_params_"
   ]
  },
  {
   "cell_type": "markdown",
   "metadata": {},
   "source": [
    "### n_neighbors': 1, 'p': 2 "
   ]
  },
  {
   "cell_type": "code",
   "execution_count": null,
   "metadata": {
    "collapsed": false
   },
   "outputs": [],
   "source": [
    "# Not the same, beacause when it choses the first parameter with the best score it\n",
    "# immediately goes to the second parameter and shows the result as soon as it gets the highest score, without looking on others"
   ]
  },
  {
   "cell_type": "markdown",
   "metadata": {},
   "source": [
    "### 6.Solve task 5 with object weights: \n",
    "1. uniform weights\n",
    "1. inversely proportional to distance\n",
    "2. linearly dependent from distance (see lectures, need to implement weighting function yourself)\n",
    "\n",
    "Write what (number of neighbours, p) and weights is finally optimal?"
   ]
  },
  {
   "cell_type": "code",
   "execution_count": 40,
   "metadata": {
    "collapsed": true
   },
   "outputs": [],
   "source": [
    "clf = KNeighborsClassifier(n_neighbors=1, weights='uniform', algorithm='auto', leaf_size=30, p=2)\n",
    "param_grid = {'n_neighbors':[1,3,5,8,10,15,20,50], 'p':[1,2,4,6]}\n",
    "clf = GridSearchCV(clf, param_grid, n_jobs=-1, refit=True)"
   ]
  },
  {
   "cell_type": "code",
   "execution_count": 41,
   "metadata": {
    "collapsed": false
   },
   "outputs": [
    {
     "data": {
      "text/plain": [
       "(0.97921306607275427, {'n_neighbors': 1, 'p': 2})"
      ]
     },
     "execution_count": 41,
     "metadata": {},
     "output_type": "execute_result"
    }
   ],
   "source": [
    "clf.fit(X_train,y_train)\n",
    "clf.best_score_, clf.best_params_"
   ]
  },
  {
   "cell_type": "markdown",
   "metadata": {},
   "source": [
    "### 'n_neighbors': 1, 'p':2, 'weights': 'uniform' "
   ]
  },
  {
   "cell_type": "markdown",
   "metadata": {},
   "source": [
    "### 8. Solve task 6 for scaled features.\n",
    "\n",
    "You need to test two scalers: statistical scaling and range scaling (see lectures)\n",
    "\n",
    "Useful functions: sklearn Scaler classes or **mean** and **std** \n",
    "(Gotcha: should you use A.std() or A.std(axis=0)?)"
   ]
  },
  {
   "cell_type": "code",
   "execution_count": 44,
   "metadata": {
    "collapsed": false
   },
   "outputs": [
    {
     "name": "stdout",
     "output_type": "stream",
     "text": [
      "0.979213066073\n",
      "{'n_neighbors': 1, 'p': 2}\n"
     ]
    }
   ],
   "source": [
    "print(clf.best_score_)\n",
    "print(clf.best_params_)"
   ]
  },
  {
   "cell_type": "code",
   "execution_count": 45,
   "metadata": {
    "collapsed": true
   },
   "outputs": [],
   "source": [
    "from sklearn import preprocessing"
   ]
  },
  {
   "cell_type": "code",
   "execution_count": 46,
   "metadata": {
    "collapsed": true
   },
   "outputs": [],
   "source": [
    "X_scaled = preprocessing.scale(X_train)\n",
    "X_scaled_test = preprocessing.scale(X_test)"
   ]
  },
  {
   "cell_type": "code",
   "execution_count": 47,
   "metadata": {
    "collapsed": false
   },
   "outputs": [
    {
     "name": "stderr",
     "output_type": "stream",
     "text": [
      "C:\\Anaconda\\lib\\site-packages\\sklearn\\utils\\validation.py:420: DataConversionWarning: Data with input dtype int32 was converted to float64 by the scale function.\n",
      "  warnings.warn(msg, DataConversionWarning)\n"
     ]
    }
   ],
   "source": [
    "y_scaled = preprocessing.scale(y_train)"
   ]
  },
  {
   "cell_type": "code",
   "execution_count": 48,
   "metadata": {
    "collapsed": false,
    "scrolled": true
   },
   "outputs": [
    {
     "data": {
      "text/plain": [
       "array([[ 0.        , -0.3349674 ,  0.37655956,  0.73893168,  0.74902996, -0.13275805, -0.42018333, -0.13104213, -0.05156009,  1.28348256,\n",
       "        ..., -0.14855364, -0.20832412, -0.02725696, -0.30859446,  0.87444689,  0.88797503,  0.2559303 , -0.62448267, -0.50368434,\n",
       "        -0.19356921],\n",
       "       [ 0.        , -0.3349674 , -1.10038723, -0.44262218, -0.19105237, -1.00678098, -0.42018333, -0.13104213, -0.05156009, -0.63214183,\n",
       "        ...,  2.08155709, -0.20832412, -0.02725696, -0.30859446, -1.0873785 , -0.72278229,  0.2559303 ,  0.72870962,  0.98145861,\n",
       "        -0.19356921],\n",
       "       [ 0.        , -0.3349674 , -1.10038723, -1.62417603,  0.2789888 , -0.8319764 , -0.42018333, -0.13104213, -0.05156009, -0.63214183,\n",
       "        ..., -0.75676566, -0.20832412, -0.02725696, -0.30859446, -1.0873785 , -1.64321505,  0.45800423,  0.39041155, -0.50368434,\n",
       "        -0.19356921],\n",
       "       [ 0.        , -0.3349674 , -0.88939484, -0.20631141,  0.98405054,  1.7900924 ,  1.61993441, -0.13104213, -0.05156009, -0.63214183,\n",
       "        ..., -0.75676566, -0.20832412, -0.02725696, -0.30859446, -0.89119596,  0.42775865, -1.56273504, -1.13192978, -0.50368434,\n",
       "        -0.19356921],\n",
       "       [ 0.        , -0.3349674 ,  0.37655956,  0.02999936, -0.66109353, -1.00678098, -0.42018333, -0.13104213, -0.05156009, -0.63214183,\n",
       "        ..., -0.75676566, -0.20832412, -0.02725696, -0.30859446, -0.30264834, -0.03245773,  0.05385638,  0.39041155, -0.50368434,\n",
       "        -0.19356921],\n",
       "       [ 0.        , -0.3349674 ,  0.16556716,  0.5026209 ,  0.2789888 , -0.48236722, -0.42018333, -0.13104213, -0.05156009, -0.63214183,\n",
       "        ..., -0.35129098, -0.20832412, -0.02725696, -0.30859446, -0.30264834,  0.65786684,  0.86215208,  0.39041155, -0.50368434,\n",
       "        -0.19356921],\n",
       "       [ 0.        , -0.3349674 , -1.10038723, -1.38786526,  0.51400938,  0.74126488, -0.42018333, -0.13104213, -0.05156009, -0.63214183,\n",
       "        ...,  1.67608241, -0.20832412, -0.02725696, -0.30859446, -1.0873785 , -1.41310686, -0.35029148,  1.40530577,  3.20917303,\n",
       "        -0.19356921],\n",
       "       [ 0.        , -0.3349674 , -0.46741004,  0.73893168, -1.36615528, -1.00678098, -0.42018333, -0.13104213, -0.05156009, -0.63214183,\n",
       "        ..., -0.75676566, -0.20832412, -0.02725696, -0.30859446, -0.30264834,  0.88797503, -1.76480897, -1.13192978, -0.50368434,\n",
       "        -0.19356921],\n",
       "       [ 0.        , -0.3349674 , -0.04542524,  0.02999936,  0.98405054,  0.74126488, -0.42018333, -0.13104213, -0.05156009,  1.28348256,\n",
       "        ..., -0.75676566, -0.20832412, -0.02725696, -0.30859446, -0.1064658 ,  0.65786684, -1.56273504, -1.13192978, -0.50368434,\n",
       "        -0.19356921],\n",
       "       [ 0.        , -0.3349674 , -0.67840244, -0.44262218,  0.51400938,  0.74126488, -0.42018333, -0.13104213, -0.05156009, -0.3128711 ,\n",
       "        ...,  1.06787039, -0.20832412, -0.02725696, -0.30859446, -0.89119596, -0.4926741 ,  0.66007816,  1.57445481,  0.98145861,\n",
       "        -0.19356921],\n",
       "       ..., \n",
       "       [ 0.        , -0.3349674 , -1.10038723, -1.62417603,  0.51400938, -1.00678098, -0.42018333, -0.13104213, -0.05156009, -0.63214183,\n",
       "        ..., -0.75676566, -0.20832412, -0.02725696, -0.30859446, -1.0873785 , -1.18299867, -0.35029148, -1.13192978, -0.50368434,\n",
       "        -0.19356921],\n",
       "       [ 0.        , -0.3349674 , -0.67840244,  0.02999936, -0.66109353, -1.00678098, -0.42018333, -0.13104213, -0.05156009, -0.63214183,\n",
       "        ...,  0.86513305, -0.20832412, -0.02725696, -0.30859446, -0.49883088,  0.42775865,  0.86215208,  1.57445481,  0.73393478,\n",
       "        -0.19356921],\n",
       "       [ 0.        , -0.3349674 ,  0.37655956,  0.26631013, -0.89611411,  0.04204654, -0.42018333, -0.13104213, -0.05156009, -0.63214183,\n",
       "        ..., -0.75676566, -0.20832412, -0.02725696, -0.30859446,  0.67826435,  0.88797503, -1.76480897, -1.13192978, -0.50368434,\n",
       "        -0.19356921],\n",
       "       [ 0.        ,  0.76821375,  1.43152156,  0.97524245, -1.60117586, -1.00678098, -0.42018333, -0.13104213, -0.05156009,  2.87983622,\n",
       "        ...,  0.0541837 , -0.20832412, -0.02725696, -0.30859446,  1.46299451,  0.65786684,  0.86215208,  0.89785866,  1.22898243,\n",
       "        -0.19356921],\n",
       "       [ 0.        , -0.3349674 , -1.10038723, -2.56941912, -1.1311347 ,  1.09087406,  3.66005214,  0.8550682 , -0.05156009, -0.63214183,\n",
       "        ..., -0.75676566, -0.20832412, -0.02725696, -0.30859446, -1.0873785 , -2.793756  , -0.75443933, -0.11703556, -0.50368434,\n",
       "        -0.19356921],\n",
       "       [ 0.        , -0.3349674 , -0.67840244, -0.91524372, -1.1311347 , -1.00678098, -0.42018333, -0.13104213, -0.05156009, -0.63214183,\n",
       "        ...,  2.08155709,  0.81580943, -0.02725696, -0.30859446, -0.89119596, -0.03245773, -0.35029148,  0.05211347, -0.50368434,\n",
       "        -0.19356921],\n",
       "       [ 0.        , -0.3349674 , -1.10038723, -2.09679758,  0.74902996, -0.30756264, -0.42018333, -0.13104213, -0.05156009, -0.63214183,\n",
       "        ..., -0.75676566, -0.20832412, -0.02725696, -0.30859446, -1.0873785 , -2.56364781,  0.86215208, -0.45533364, -0.50368434,\n",
       "        -0.19356921],\n",
       "       [ 0.        , -0.3349674 ,  0.37655956,  0.02999936, -0.19105237, -0.8319764 , -0.42018333, -0.13104213, -0.05156009, -0.63214183,\n",
       "        ...,  1.67608241, -0.20832412, -0.02725696, -0.30859446,  0.48208181, -0.03245773,  0.86215208,  1.0670077 , -0.00863669,\n",
       "        -0.19356921],\n",
       "       [ 0.        , -0.3349674 , -1.10038723, -2.80572989, -0.42607295,  1.26567864,  1.61993441, -0.13104213, -0.05156009, -0.63214183,\n",
       "        ..., -0.75676566, -0.20832412, -0.02725696, -0.30859446, -1.0873785 , -2.33353962,  0.2559303 ,  1.57445481, -0.25616051,\n",
       "        -0.19356921],\n",
       "       [ 0.        , -0.3349674 ,  0.58755196,  0.73893168,  0.98405054,  1.7900924 ,  1.32848901, -0.13104213, -0.05156009,  0.00639964,\n",
       "        ..., -0.75676566, -0.20832412, -0.02725696, -0.30859446,  0.67826435,  0.88797503, -0.75443933, -1.13192978, -0.50368434,\n",
       "        -0.19356921]])"
      ]
     },
     "execution_count": 48,
     "metadata": {},
     "output_type": "execute_result"
    }
   ],
   "source": [
    "X_scaled\n",
    "#Scaled data has zero mean and unit variance:"
   ]
  },
  {
   "cell_type": "code",
   "execution_count": 49,
   "metadata": {
    "collapsed": false
   },
   "outputs": [
    {
     "data": {
      "text/plain": [
       "array([  0.00000000e+00,  -5.27500175e-17,  -1.09950818e-16,  -2.24352418e-16,  -1.21160196e-17,   2.98367286e-17,  -2.20561011e-16,\n",
       "         5.20906423e-17,  -2.30606180e-16,   3.04877329e-17,   1.41765672e-17,   1.55365286e-16,  -3.16500105e-17,   1.63689898e-16,\n",
       "         9.56094067e-18,   3.46625310e-16,  -6.24562268e-16,   6.68833132e-16,   1.10115662e-16,  -1.99873113e-17,  -1.65503180e-16,\n",
       "         1.38798484e-16,  -5.85195507e-18,   1.16111855e-16,  -8.72878854e-16,   5.72832221e-17,  -1.38139108e-16,   4.45078273e-17,\n",
       "        -1.23468010e-16,   1.97812566e-17,   8.78617479e-17,  -2.46936019e-16,   0.00000000e+00,  -5.53875184e-17,   8.79441698e-17,\n",
       "         4.11285293e-17,   1.38303952e-16,   2.08032882e-16,  -6.09922077e-18,   0.00000000e+00,  -2.89043309e-16,  -9.71754229e-17,\n",
       "         1.30226606e-16,   8.57187784e-18,   1.39293015e-17,   1.18342398e-16,   2.84355563e-17,  -5.76747262e-17,   9.22507142e-17,\n",
       "         9.76699543e-17,  -5.27500175e-18,  -1.93114517e-16,  -6.39593962e-17,   7.51687749e-17,   1.12588319e-16,  -1.93361783e-16,\n",
       "        -2.42067976e-16,  -4.11450137e-16,  -1.38386374e-16,   1.55365286e-16,  -1.86273499e-17,   4.12109512e-18,   9.07465145e-17,\n",
       "         3.00139357e-16])"
      ]
     },
     "execution_count": 49,
     "metadata": {},
     "output_type": "execute_result"
    }
   ],
   "source": [
    "X_scaled.mean(axis=0)"
   ]
  },
  {
   "cell_type": "code",
   "execution_count": 50,
   "metadata": {
    "collapsed": false
   },
   "outputs": [
    {
     "data": {
      "text/plain": [
       "array([ 0.,  1.,  1.,  1.,  1.,  1.,  1.,  1.,  1.,  1.,  1.,  1.,  1.,  1.,  1.,  1.,  1.,  1.,  1.,  1.,  1.,  1.,  1.,  1.,  1.,  1.,\n",
       "        1.,  1.,  1.,  1.,  1.,  1.,  0.,  1.,  1.,  1.,  1.,  1.,  1.,  0.,  1.,  1.,  1.,  1.,  1.,  1.,  1.,  1.,  1.,  1.,  1.,  1.,\n",
       "        1.,  1.,  1.,  1.,  1.,  1.,  1.,  1.,  1.,  1.,  1.,  1.])"
      ]
     },
     "execution_count": 50,
     "metadata": {},
     "output_type": "execute_result"
    }
   ],
   "source": [
    " X_scaled.std(axis=0)"
   ]
  },
  {
   "cell_type": "code",
   "execution_count": 51,
   "metadata": {
    "collapsed": false
   },
   "outputs": [
    {
     "data": {
      "text/plain": [
       "0.97628120948833363"
      ]
     },
     "execution_count": 51,
     "metadata": {},
     "output_type": "execute_result"
    }
   ],
   "source": [
    " X_scaled.std()"
   ]
  },
  {
   "cell_type": "code",
   "execution_count": 52,
   "metadata": {
    "collapsed": false
   },
   "outputs": [
    {
     "data": {
      "text/plain": [
       "StandardScaler(copy=True, with_mean=True, with_std=True)"
      ]
     },
     "execution_count": 52,
     "metadata": {},
     "output_type": "execute_result"
    }
   ],
   "source": [
    "scaler = preprocessing.StandardScaler().fit(X_train)\n",
    "scaler"
   ]
  },
  {
   "cell_type": "code",
   "execution_count": 53,
   "metadata": {
    "collapsed": false,
    "scrolled": true
   },
   "outputs": [
    {
     "data": {
      "text/plain": [
       "array([[ 0.        , -0.3349674 ,  0.37655956,  0.73893168,  0.74902996, -0.13275805, -0.42018333, -0.13104213, -0.05156009,  1.28348256,\n",
       "        ..., -0.14855364, -0.20832412, -0.02725696, -0.30859446,  0.87444689,  0.88797503,  0.2559303 , -0.62448267, -0.50368434,\n",
       "        -0.19356921],\n",
       "       [ 0.        , -0.3349674 , -1.10038723, -0.44262218, -0.19105237, -1.00678098, -0.42018333, -0.13104213, -0.05156009, -0.63214183,\n",
       "        ...,  2.08155709, -0.20832412, -0.02725696, -0.30859446, -1.0873785 , -0.72278229,  0.2559303 ,  0.72870962,  0.98145861,\n",
       "        -0.19356921],\n",
       "       [ 0.        , -0.3349674 , -1.10038723, -1.62417603,  0.2789888 , -0.8319764 , -0.42018333, -0.13104213, -0.05156009, -0.63214183,\n",
       "        ..., -0.75676566, -0.20832412, -0.02725696, -0.30859446, -1.0873785 , -1.64321505,  0.45800423,  0.39041155, -0.50368434,\n",
       "        -0.19356921],\n",
       "       [ 0.        , -0.3349674 , -0.88939484, -0.20631141,  0.98405054,  1.7900924 ,  1.61993441, -0.13104213, -0.05156009, -0.63214183,\n",
       "        ..., -0.75676566, -0.20832412, -0.02725696, -0.30859446, -0.89119596,  0.42775865, -1.56273504, -1.13192978, -0.50368434,\n",
       "        -0.19356921],\n",
       "       [ 0.        , -0.3349674 ,  0.37655956,  0.02999936, -0.66109353, -1.00678098, -0.42018333, -0.13104213, -0.05156009, -0.63214183,\n",
       "        ..., -0.75676566, -0.20832412, -0.02725696, -0.30859446, -0.30264834, -0.03245773,  0.05385638,  0.39041155, -0.50368434,\n",
       "        -0.19356921],\n",
       "       [ 0.        , -0.3349674 ,  0.16556716,  0.5026209 ,  0.2789888 , -0.48236722, -0.42018333, -0.13104213, -0.05156009, -0.63214183,\n",
       "        ..., -0.35129098, -0.20832412, -0.02725696, -0.30859446, -0.30264834,  0.65786684,  0.86215208,  0.39041155, -0.50368434,\n",
       "        -0.19356921],\n",
       "       [ 0.        , -0.3349674 , -1.10038723, -1.38786526,  0.51400938,  0.74126488, -0.42018333, -0.13104213, -0.05156009, -0.63214183,\n",
       "        ...,  1.67608241, -0.20832412, -0.02725696, -0.30859446, -1.0873785 , -1.41310686, -0.35029148,  1.40530577,  3.20917303,\n",
       "        -0.19356921],\n",
       "       [ 0.        , -0.3349674 , -0.46741004,  0.73893168, -1.36615528, -1.00678098, -0.42018333, -0.13104213, -0.05156009, -0.63214183,\n",
       "        ..., -0.75676566, -0.20832412, -0.02725696, -0.30859446, -0.30264834,  0.88797503, -1.76480897, -1.13192978, -0.50368434,\n",
       "        -0.19356921],\n",
       "       [ 0.        , -0.3349674 , -0.04542524,  0.02999936,  0.98405054,  0.74126488, -0.42018333, -0.13104213, -0.05156009,  1.28348256,\n",
       "        ..., -0.75676566, -0.20832412, -0.02725696, -0.30859446, -0.1064658 ,  0.65786684, -1.56273504, -1.13192978, -0.50368434,\n",
       "        -0.19356921],\n",
       "       [ 0.        , -0.3349674 , -0.67840244, -0.44262218,  0.51400938,  0.74126488, -0.42018333, -0.13104213, -0.05156009, -0.3128711 ,\n",
       "        ...,  1.06787039, -0.20832412, -0.02725696, -0.30859446, -0.89119596, -0.4926741 ,  0.66007816,  1.57445481,  0.98145861,\n",
       "        -0.19356921],\n",
       "       ..., \n",
       "       [ 0.        , -0.3349674 , -1.10038723, -1.62417603,  0.51400938, -1.00678098, -0.42018333, -0.13104213, -0.05156009, -0.63214183,\n",
       "        ..., -0.75676566, -0.20832412, -0.02725696, -0.30859446, -1.0873785 , -1.18299867, -0.35029148, -1.13192978, -0.50368434,\n",
       "        -0.19356921],\n",
       "       [ 0.        , -0.3349674 , -0.67840244,  0.02999936, -0.66109353, -1.00678098, -0.42018333, -0.13104213, -0.05156009, -0.63214183,\n",
       "        ...,  0.86513305, -0.20832412, -0.02725696, -0.30859446, -0.49883088,  0.42775865,  0.86215208,  1.57445481,  0.73393478,\n",
       "        -0.19356921],\n",
       "       [ 0.        , -0.3349674 ,  0.37655956,  0.26631013, -0.89611411,  0.04204654, -0.42018333, -0.13104213, -0.05156009, -0.63214183,\n",
       "        ..., -0.75676566, -0.20832412, -0.02725696, -0.30859446,  0.67826435,  0.88797503, -1.76480897, -1.13192978, -0.50368434,\n",
       "        -0.19356921],\n",
       "       [ 0.        ,  0.76821375,  1.43152156,  0.97524245, -1.60117586, -1.00678098, -0.42018333, -0.13104213, -0.05156009,  2.87983622,\n",
       "        ...,  0.0541837 , -0.20832412, -0.02725696, -0.30859446,  1.46299451,  0.65786684,  0.86215208,  0.89785866,  1.22898243,\n",
       "        -0.19356921],\n",
       "       [ 0.        , -0.3349674 , -1.10038723, -2.56941912, -1.1311347 ,  1.09087406,  3.66005214,  0.8550682 , -0.05156009, -0.63214183,\n",
       "        ..., -0.75676566, -0.20832412, -0.02725696, -0.30859446, -1.0873785 , -2.793756  , -0.75443933, -0.11703556, -0.50368434,\n",
       "        -0.19356921],\n",
       "       [ 0.        , -0.3349674 , -0.67840244, -0.91524372, -1.1311347 , -1.00678098, -0.42018333, -0.13104213, -0.05156009, -0.63214183,\n",
       "        ...,  2.08155709,  0.81580943, -0.02725696, -0.30859446, -0.89119596, -0.03245773, -0.35029148,  0.05211347, -0.50368434,\n",
       "        -0.19356921],\n",
       "       [ 0.        , -0.3349674 , -1.10038723, -2.09679758,  0.74902996, -0.30756264, -0.42018333, -0.13104213, -0.05156009, -0.63214183,\n",
       "        ..., -0.75676566, -0.20832412, -0.02725696, -0.30859446, -1.0873785 , -2.56364781,  0.86215208, -0.45533364, -0.50368434,\n",
       "        -0.19356921],\n",
       "       [ 0.        , -0.3349674 ,  0.37655956,  0.02999936, -0.19105237, -0.8319764 , -0.42018333, -0.13104213, -0.05156009, -0.63214183,\n",
       "        ...,  1.67608241, -0.20832412, -0.02725696, -0.30859446,  0.48208181, -0.03245773,  0.86215208,  1.0670077 , -0.00863669,\n",
       "        -0.19356921],\n",
       "       [ 0.        , -0.3349674 , -1.10038723, -2.80572989, -0.42607295,  1.26567864,  1.61993441, -0.13104213, -0.05156009, -0.63214183,\n",
       "        ..., -0.75676566, -0.20832412, -0.02725696, -0.30859446, -1.0873785 , -2.33353962,  0.2559303 ,  1.57445481, -0.25616051,\n",
       "        -0.19356921],\n",
       "       [ 0.        , -0.3349674 ,  0.58755196,  0.73893168,  0.98405054,  1.7900924 ,  1.32848901, -0.13104213, -0.05156009,  0.00639964,\n",
       "        ..., -0.75676566, -0.20832412, -0.02725696, -0.30859446,  0.67826435,  0.88797503, -0.75443933, -1.13192978, -0.50368434,\n",
       "        -0.19356921]])"
      ]
     },
     "execution_count": 53,
     "metadata": {},
     "output_type": "execute_result"
    }
   ],
   "source": [
    "scaler.transform(X_train)"
   ]
  },
  {
   "cell_type": "code",
   "execution_count": 54,
   "metadata": {
    "collapsed": false,
    "scrolled": true
   },
   "outputs": [
    {
     "data": {
      "text/plain": [
       "array([[  0.00000000e+00,  -3.34967403e-01,   1.65567161e-01,   9.75242447e-01,  -1.91052366e-01,  -1.00678098e+00,  -4.20183333e-01,\n",
       "         -1.31042130e-01,  -5.15600932e-02,  -6.32141827e-01, ...,  -7.56765657e-01,  -2.08324123e-01,  -2.72569633e-02,  -3.08594459e-01,\n",
       "         -3.02648342e-01,   6.57866843e-01,   8.62152085e-01,  -6.24482673e-01,  -5.03684338e-01,  -1.93569214e-01],\n",
       "       [  0.00000000e+00,   8.49048183e+00,   1.64251396e+00,   7.38931676e-01,   9.84050545e-01,   1.79009240e+00,   1.91137980e+00,\n",
       "         -1.31042130e-01,  -5.15600932e-02,   2.24129476e+00, ...,  -7.56765657e-01,  -2.08324123e-01,  -2.72569633e-02,   9.23500409e+00,\n",
       "          2.05154213e+00,  -1.41310686e+00,  -2.37103075e+00,  -1.13192978e+00,  -5.03684338e-01,  -1.93569214e-01],\n",
       "       [  0.00000000e+00,  -3.34967403e-01,  -2.56417637e-01,   7.38931676e-01,  -1.91052366e-01,  -8.31976395e-01,  -4.20183333e-01,\n",
       "         -1.31042130e-01,  -5.15600932e-02,   6.39963604e-03, ...,  -3.51290979e-01,  -2.08324123e-01,  -2.72569633e-02,  -3.08594459e-01,\n",
       "         -3.02648342e-01,   1.97650464e-01,   4.58004231e-01,  -1.17035562e-01,  -5.03684338e-01,  -1.93569214e-01],\n",
       "       [  0.00000000e+00,  -3.34967403e-01,  -6.78402436e-01,  -6.78932950e-01,   5.14009380e-01,   1.79009240e+00,   3.95149754e+00,\n",
       "         -1.31042130e-01,  -5.15600932e-02,   3.25670368e-01, ...,  -7.56765657e-01,  -2.08324123e-01,  -2.72569633e-02,  -3.08594459e-01,\n",
       "         -1.08737850e+00,   4.27758654e-01,  -1.36066111e+00,  -1.13192978e+00,  -5.03684338e-01,  -1.93569214e-01],\n",
       "       [  0.00000000e+00,  -3.34967403e-01,  -1.10038723e+00,  -2.56941912e+00,   4.39682158e-02,   2.16851124e-01,  -4.20183333e-01,\n",
       "         -1.31042130e-01,  -5.15600932e-02,  -6.32141827e-01, ...,  -7.56765657e-01,  -2.08324123e-01,  -2.72569633e-02,  -3.08594459e-01,\n",
       "         -1.08737850e+00,  -2.10343143e+00,   6.60078158e-01,   1.06700770e+00,  -5.03684338e-01,  -1.93569214e-01],\n",
       "       [  0.00000000e+00,  -3.34967403e-01,   1.65567161e-01,   5.02620905e-01,  -1.91052366e-01,  -8.31976395e-01,  -4.20183333e-01,\n",
       "         -1.31042130e-01,  -5.15600932e-02,  -6.32141827e-01, ...,  -7.56765657e-01,  -2.08324123e-01,  -2.72569633e-02,  -3.08594459e-01,\n",
       "         -1.06465803e-01,   4.27758654e-01,   6.60078158e-01,  -4.55333636e-01,  -5.03684338e-01,  -1.93569214e-01],\n",
       "       [  0.00000000e+00,  -3.34967403e-01,  -1.10038723e+00,  -1.38786526e+00,   2.78988798e-01,   3.91655711e-01,  -4.20183333e-01,\n",
       "         -1.31042130e-01,  -5.15600932e-02,  -6.32141827e-01, ...,  -7.56765657e-01,  -2.08324123e-01,  -2.72569633e-02,  -3.08594459e-01,\n",
       "         -1.08737850e+00,  -9.52890484e-01,   6.60078158e-01,   8.97858659e-01,  -5.03684338e-01,  -1.93569214e-01],\n",
       "       [  0.00000000e+00,  -3.34967403e-01,  -1.10038723e+00,  -2.80572989e+00,   5.14009380e-01,  -3.07562636e-01,  -4.20183333e-01,\n",
       "         -1.31042130e-01,  -5.15600932e-02,  -6.32141827e-01, ...,  -7.56765657e-01,  -2.08324123e-01,  -2.72569633e-02,  -3.08594459e-01,\n",
       "         -1.08737850e+00,  -2.79375600e+00,   4.58004231e-01,   5.59560585e-01,  -5.03684338e-01,  -1.93569214e-01],\n",
       "       [  0.00000000e+00,  -3.34967403e-01,   1.43152156e+00,   9.75242447e-01,   9.84050545e-01,   3.91655711e-01,  -4.20183333e-01,\n",
       "         -1.31042130e-01,  -5.15600932e-02,   3.25670368e-01, ...,  -7.56765657e-01,  -2.08324123e-01,  -2.72569633e-02,  -3.08594459e-01,\n",
       "          1.07062943e+00,   8.87975033e-01,   5.38563770e-02,  -1.13192978e+00,  -5.03684338e-01,  -1.93569214e-01],\n",
       "       [  0.00000000e+00,  -3.34967403e-01,  -1.10038723e+00,  -1.62417603e+00,   7.49029962e-01,  -6.57171809e-01,  -4.20183333e-01,\n",
       "         -1.31042130e-01,  -5.15600932e-02,  -6.32141827e-01, ...,  -7.56765657e-01,  -2.08324123e-01,  -2.72569633e-02,  -3.08594459e-01,\n",
       "         -1.08737850e+00,  -1.41310686e+00,   8.62152085e-01,  -7.93631709e-01,  -5.03684338e-01,  -1.93569214e-01],\n",
       "       ..., \n",
       "       [  0.00000000e+00,  -3.34967403e-01,  -8.89394835e-01,   2.66310134e-01,   9.84050545e-01,  -6.57171809e-01,  -4.20183333e-01,\n",
       "         -1.31042130e-01,  -5.15600932e-02,  -6.32141827e-01, ...,  -5.54028318e-01,  -2.08324123e-01,  -2.72569633e-02,  -3.08594459e-01,\n",
       "         -8.91195959e-01,  -2.62565915e-01,   8.62152085e-01,   2.21262511e-01,  -5.03684338e-01,  -1.93569214e-01],\n",
       "       [  0.00000000e+00,   7.68213751e-01,   1.85350636e+00,   9.75242447e-01,   5.14009380e-01,   3.91655711e-01,  -4.20183333e-01,\n",
       "         -1.31042130e-01,  -5.15600932e-02,   9.64211831e-01, ...,   6.62395715e-01,  -2.08324123e-01,  -2.72569633e-02,   7.51805380e-01,\n",
       "          1.46299451e+00,   8.87975033e-01,   8.62152085e-01,   5.59560585e-01,  -2.56160513e-01,  -1.93569214e-01],\n",
       "       [  0.00000000e+00,  -3.34967403e-01,  -1.10038723e+00,  -2.56941912e+00,   7.49029962e-01,  -3.07562636e-01,  -4.20183333e-01,\n",
       "         -1.31042130e-01,  -5.15600932e-02,  -6.32141827e-01, ...,  -5.54028318e-01,  -2.08324123e-01,  -2.72569633e-02,  -3.08594459e-01,\n",
       "         -1.08737850e+00,  -2.79375600e+00,   6.60078158e-01,   8.97858659e-01,  -5.03684338e-01,  -1.93569214e-01],\n",
       "       [  0.00000000e+00,   4.07775721e+00,   2.27549115e+00,   9.75242447e-01,   9.84050545e-01,   7.41264884e-01,   4.54152841e-01,\n",
       "         -1.31042130e-01,  -5.15600932e-02,   3.19910695e+00, ...,  -7.56765657e-01,  -2.08324123e-01,  -2.72569633e-02,   3.93300490e+00,\n",
       "          2.05154213e+00,   1.97650464e-01,  -1.76480897e+00,  -1.13192978e+00,  -5.03684338e-01,  -1.93569214e-01],\n",
       "       [  0.00000000e+00,   7.68213751e-01,   7.98544359e-01,   2.99993629e-02,   9.84050545e-01,   1.79009240e+00,   7.45598232e-01,\n",
       "         -1.31042130e-01,  -5.15600932e-02,  -3.12871095e-01, ...,  -7.56765657e-01,  -2.08324123e-01,  -2.72569633e-02,  -3.08594459e-01,\n",
       "          1.65917705e+00,  -4.92674104e-01,  -2.37103075e+00,  -1.13192978e+00,  -5.03684338e-01,  -1.93569214e-01],\n",
       "       [  0.00000000e+00,  -3.34967403e-01,   1.22052916e+00,   5.02620905e-01,  -4.26072949e-01,  -8.31976395e-01,  -4.20183333e-01,\n",
       "         -1.31042130e-01,  -5.15600932e-02,  -6.32141827e-01, ...,  -7.56765657e-01,  -2.08324123e-01,  -2.72569633e-02,  -3.08594459e-01,\n",
       "          2.85899276e-01,   4.27758654e-01,   6.60078158e-01,   7.28709622e-01,  -5.03684338e-01,  -1.93569214e-01],\n",
       "       [  0.00000000e+00,  -3.34967403e-01,   5.87551960e-01,   2.66310134e-01,  -1.91052366e-01,  -8.31976395e-01,  -4.20183333e-01,\n",
       "         -1.31042130e-01,  -5.15600932e-02,   6.44941099e-01, ...,   1.67608241e+00,  -2.08324123e-01,  -2.72569633e-02,  -3.08594459e-01,\n",
       "          8.97167365e-02,   4.27758654e-01,   8.62152085e-01,   1.40530577e+00,   7.33934785e-01,  -1.93569214e-01],\n",
       "       [  0.00000000e+00,  -3.34967403e-01,   5.87551960e-01,   9.75242447e-01,   2.78988798e-01,  -1.00678098e+00,  -4.20183333e-01,\n",
       "         -1.31042130e-01,  -5.15600932e-02,  -6.32141827e-01, ...,  -7.56765657e-01,  -2.08324123e-01,  -2.72569633e-02,  -3.08594459e-01,\n",
       "          1.26681197e+00,  -7.22782294e-01,  -2.37103075e+00,  -1.13192978e+00,  -5.03684338e-01,  -1.93569214e-01],\n",
       "       [  0.00000000e+00,  -3.34967403e-01,   1.85350636e+00,   9.75242447e-01,  -8.96114113e-01,  -1.00678098e+00,  -4.20183333e-01,\n",
       "         -1.31042130e-01,  -5.15600932e-02,  -6.32141827e-01, ...,  -7.56765657e-01,  -2.08324123e-01,  -2.72569633e-02,  -3.08594459e-01,\n",
       "          1.65917705e+00,   6.57866843e-01,   5.38563770e-02,  -9.62780746e-01,  -5.03684338e-01,  -1.93569214e-01],\n",
       "       [  0.00000000e+00,   7.68213751e-01,   1.64251396e+00,   9.75242447e-01,   4.39682158e-02,  -8.31976395e-01,  -4.20183333e-01,\n",
       "         -1.31042130e-01,  -5.15600932e-02,  -3.12871095e-01, ...,  -1.48553640e-01,  -2.08324123e-01,  -2.72569633e-02,  -3.08594459e-01,\n",
       "          1.65917705e+00,   8.87975033e-01,  -1.48217550e-01,  -2.86184599e-01,  -5.03684338e-01,  -1.93569214e-01]])"
      ]
     },
     "execution_count": 54,
     "metadata": {},
     "output_type": "execute_result"
    }
   ],
   "source": [
    "scaler.transform(X_test)"
   ]
  },
  {
   "cell_type": "code",
   "execution_count": 55,
   "metadata": {
    "collapsed": false,
    "scrolled": true
   },
   "outputs": [
    {
     "data": {
      "text/plain": [
       "array([[ 0.        ,  0.        ,  0.4375    ,  0.9375    ,  0.9375    ,  0.3125    ,  0.        ,  0.        ,  0.        ,  0.42857143,\n",
       "        ...,  0.1875    ,  0.        ,  0.        ,  0.        ,  0.625     ,  1.        ,  0.8125    ,  0.1875    ,  0.        ,  0.        ],\n",
       "       [ 0.        ,  0.        ,  0.        ,  0.625     ,  0.6875    ,  0.        ,  0.        ,  0.        ,  0.        ,  0.        ,\n",
       "        ...,  0.875     ,  0.        ,  0.        ,  0.        ,  0.        ,  0.5625    ,  0.8125    ,  0.6875    ,  0.375     ,  0.        ],\n",
       "       [ 0.        ,  0.        ,  0.        ,  0.3125    ,  0.8125    ,  0.0625    ,  0.        ,  0.        ,  0.        ,  0.        ,\n",
       "        ...,  0.        ,  0.        ,  0.        ,  0.        ,  0.        ,  0.3125    ,  0.875     ,  0.5625    ,  0.        ,  0.        ],\n",
       "       [ 0.        ,  0.        ,  0.0625    ,  0.6875    ,  1.        ,  1.        ,  0.4375    ,  0.        ,  0.        ,  0.        ,\n",
       "        ...,  0.        ,  0.        ,  0.        ,  0.        ,  0.0625    ,  0.875     ,  0.25      ,  0.        ,  0.        ,  0.        ],\n",
       "       [ 0.        ,  0.        ,  0.4375    ,  0.75      ,  0.5625    ,  0.        ,  0.        ,  0.        ,  0.        ,  0.        ,\n",
       "        ...,  0.        ,  0.        ,  0.        ,  0.        ,  0.25      ,  0.75      ,  0.75      ,  0.5625    ,  0.        ,  0.        ],\n",
       "       [ 0.        ,  0.        ,  0.375     ,  0.875     ,  0.8125    ,  0.1875    ,  0.        ,  0.        ,  0.        ,  0.        ,\n",
       "        ...,  0.125     ,  0.        ,  0.        ,  0.        ,  0.25      ,  0.9375    ,  1.        ,  0.5625    ,  0.        ,  0.        ],\n",
       "       [ 0.        ,  0.        ,  0.        ,  0.375     ,  0.875     ,  0.625     ,  0.        ,  0.        ,  0.        ,  0.        ,\n",
       "        ...,  0.75      ,  0.        ,  0.        ,  0.        ,  0.        ,  0.375     ,  0.625     ,  0.9375    ,  0.9375    ,  0.        ],\n",
       "       [ 0.        ,  0.        ,  0.1875    ,  0.9375    ,  0.375     ,  0.        ,  0.        ,  0.        ,  0.        ,  0.        ,\n",
       "        ...,  0.        ,  0.        ,  0.        ,  0.        ,  0.25      ,  1.        ,  0.1875    ,  0.        ,  0.        ,  0.        ],\n",
       "       [ 0.        ,  0.        ,  0.3125    ,  0.75      ,  1.        ,  0.625     ,  0.        ,  0.        ,  0.        ,  0.42857143,\n",
       "        ...,  0.        ,  0.        ,  0.        ,  0.        ,  0.3125    ,  0.9375    ,  0.25      ,  0.        ,  0.        ,  0.        ],\n",
       "       [ 0.        ,  0.        ,  0.125     ,  0.625     ,  0.875     ,  0.625     ,  0.        ,  0.        ,  0.        ,  0.07142857,\n",
       "        ...,  0.5625    ,  0.        ,  0.        ,  0.        ,  0.0625    ,  0.625     ,  0.9375    ,  1.        ,  0.375     ,  0.        ],\n",
       "       ..., \n",
       "       [ 0.        ,  0.        ,  0.        ,  0.3125    ,  0.875     ,  0.        ,  0.        ,  0.        ,  0.        ,  0.        ,\n",
       "        ...,  0.        ,  0.        ,  0.        ,  0.        ,  0.        ,  0.4375    ,  0.625     ,  0.        ,  0.        ,  0.        ],\n",
       "       [ 0.        ,  0.        ,  0.125     ,  0.75      ,  0.5625    ,  0.        ,  0.        ,  0.        ,  0.        ,  0.        ,\n",
       "        ...,  0.5       ,  0.        ,  0.        ,  0.        ,  0.1875    ,  0.875     ,  1.        ,  1.        ,  0.3125    ,  0.        ],\n",
       "       [ 0.        ,  0.        ,  0.4375    ,  0.8125    ,  0.5       ,  0.375     ,  0.        ,  0.        ,  0.        ,  0.        ,\n",
       "        ...,  0.        ,  0.        ,  0.        ,  0.        ,  0.5625    ,  1.        ,  0.1875    ,  0.        ,  0.        ,  0.        ],\n",
       "       [ 0.        ,  0.125     ,  0.75      ,  1.        ,  0.3125    ,  0.        ,  0.        ,  0.        ,  0.        ,  0.78571429,\n",
       "        ...,  0.25      ,  0.        ,  0.        ,  0.        ,  0.8125    ,  0.9375    ,  1.        ,  0.75      ,  0.4375    ,  0.        ],\n",
       "       [ 0.        ,  0.        ,  0.        ,  0.0625    ,  0.4375    ,  0.75      ,  0.875     ,  0.06666667,  0.        ,  0.        ,\n",
       "        ...,  0.        ,  0.        ,  0.        ,  0.        ,  0.        ,  0.        ,  0.5       ,  0.375     ,  0.        ,  0.        ],\n",
       "       [ 0.        ,  0.        ,  0.125     ,  0.5       ,  0.4375    ,  0.        ,  0.        ,  0.        ,  0.        ,  0.        ,\n",
       "        ...,  0.875     ,  0.07692308,  0.        ,  0.        ,  0.0625    ,  0.75      ,  0.625     ,  0.4375    ,  0.        ,  0.        ],\n",
       "       [ 0.        ,  0.        ,  0.        ,  0.1875    ,  0.9375    ,  0.25      ,  0.        ,  0.        ,  0.        ,  0.        ,\n",
       "        ...,  0.        ,  0.        ,  0.        ,  0.        ,  0.        ,  0.0625    ,  1.        ,  0.25      ,  0.        ,  0.        ],\n",
       "       [ 0.        ,  0.        ,  0.4375    ,  0.75      ,  0.6875    ,  0.0625    ,  0.        ,  0.        ,  0.        ,  0.        ,\n",
       "        ...,  0.75      ,  0.        ,  0.        ,  0.        ,  0.5       ,  0.75      ,  1.        ,  0.8125    ,  0.125     ,  0.        ],\n",
       "       [ 0.        ,  0.        ,  0.        ,  0.        ,  0.625     ,  0.8125    ,  0.4375    ,  0.        ,  0.        ,  0.        ,\n",
       "        ...,  0.        ,  0.        ,  0.        ,  0.        ,  0.        ,  0.125     ,  0.8125    ,  1.        ,  0.0625    ,  0.        ],\n",
       "       [ 0.        ,  0.        ,  0.5       ,  0.9375    ,  1.        ,  1.        ,  0.375     ,  0.        ,  0.        ,  0.14285714,\n",
       "        ...,  0.        ,  0.        ,  0.        ,  0.        ,  0.5625    ,  1.        ,  0.5       ,  0.        ,  0.        ,  0.        ]])"
      ]
     },
     "execution_count": 55,
     "metadata": {},
     "output_type": "execute_result"
    }
   ],
   "source": [
    "min_max_scaler = preprocessing.MinMaxScaler()\n",
    "X_train_minmax = min_max_scaler.fit_transform(X_train)\n",
    "X_train_minmax"
   ]
  },
  {
   "cell_type": "code",
   "execution_count": 56,
   "metadata": {
    "collapsed": false,
    "scrolled": true
   },
   "outputs": [
    {
     "data": {
      "text/plain": [
       "array([[ 0.        ,  0.        ,  0.375     ,  1.        ,  0.6875    ,  0.        ,  0.        ,  0.        ,  0.        ,  0.        ,\n",
       "        ...,  0.        ,  0.        ,  0.        ,  0.        ,  0.25      ,  0.9375    ,  1.        ,  0.1875    ,  0.        ,  0.        ],\n",
       "       [ 0.        ,  1.        ,  0.8125    ,  0.9375    ,  1.        ,  1.        ,  0.5       ,  0.        ,  0.        ,  0.5625    ,\n",
       "        ...,  0.        ,  0.        ,  0.        ,  1.        ,  1.        ,  0.375     ,  0.        ,  0.        ,  0.        ,  0.        ],\n",
       "       [ 0.        ,  0.        ,  0.25      ,  0.9375    ,  0.6875    ,  0.0625    ,  0.        ,  0.        ,  0.        ,  0.125     ,\n",
       "        ...,  0.125     ,  0.        ,  0.        ,  0.        ,  0.25      ,  0.8125    ,  0.875     ,  0.375     ,  0.        ,  0.        ],\n",
       "       [ 0.        ,  0.        ,  0.125     ,  0.5625    ,  0.875     ,  1.        ,  0.9375    ,  0.        ,  0.        ,  0.1875    ,\n",
       "        ...,  0.        ,  0.        ,  0.        ,  0.        ,  0.        ,  0.875     ,  0.3125    ,  0.        ,  0.        ,  0.        ],\n",
       "       [ 0.        ,  0.        ,  0.        ,  0.0625    ,  0.75      ,  0.4375    ,  0.        ,  0.        ,  0.        ,  0.        ,\n",
       "        ...,  0.        ,  0.        ,  0.        ,  0.        ,  0.        ,  0.1875    ,  0.9375    ,  0.8125    ,  0.        ,  0.        ],\n",
       "       [ 0.        ,  0.        ,  0.375     ,  0.875     ,  0.6875    ,  0.0625    ,  0.        ,  0.        ,  0.        ,  0.        ,\n",
       "        ...,  0.        ,  0.        ,  0.        ,  0.        ,  0.3125    ,  0.875     ,  0.9375    ,  0.25      ,  0.        ,  0.        ],\n",
       "       [ 0.        ,  0.        ,  0.        ,  0.375     ,  0.8125    ,  0.5       ,  0.        ,  0.        ,  0.        ,  0.        ,\n",
       "        ...,  0.        ,  0.        ,  0.        ,  0.        ,  0.        ,  0.5       ,  0.9375    ,  0.75      ,  0.        ,  0.        ],\n",
       "       [ 0.        ,  0.        ,  0.        ,  0.        ,  0.875     ,  0.25      ,  0.        ,  0.        ,  0.        ,  0.        ,\n",
       "        ...,  0.        ,  0.        ,  0.        ,  0.        ,  0.        ,  0.        ,  0.875     ,  0.625     ,  0.        ,  0.        ],\n",
       "       [ 0.        ,  0.        ,  0.75      ,  1.        ,  1.        ,  0.5       ,  0.        ,  0.        ,  0.        ,  0.1875    ,\n",
       "        ...,  0.        ,  0.        ,  0.        ,  0.        ,  0.6875    ,  1.        ,  0.75      ,  0.        ,  0.        ,  0.        ],\n",
       "       [ 0.        ,  0.        ,  0.        ,  0.3125    ,  0.9375    ,  0.125     ,  0.        ,  0.        ,  0.        ,  0.        ,\n",
       "        ...,  0.        ,  0.        ,  0.        ,  0.        ,  0.        ,  0.375     ,  1.        ,  0.125     ,  0.        ,  0.        ],\n",
       "       ..., \n",
       "       [ 0.        ,  0.        ,  0.0625    ,  0.8125    ,  1.        ,  0.125     ,  0.        ,  0.        ,  0.        ,  0.        ,\n",
       "        ...,  0.0625    ,  0.        ,  0.        ,  0.        ,  0.0625    ,  0.6875    ,  1.        ,  0.5       ,  0.        ,  0.        ],\n",
       "       [ 0.        ,  0.125     ,  0.875     ,  1.        ,  0.875     ,  0.5       ,  0.        ,  0.        ,  0.        ,  0.3125    ,\n",
       "        ...,  0.4375    ,  0.        ,  0.        ,  0.11111111,  0.8125    ,  1.        ,  1.        ,  0.625     ,  0.0625    ,  0.        ],\n",
       "       [ 0.        ,  0.        ,  0.        ,  0.0625    ,  0.9375    ,  0.25      ,  0.        ,  0.        ,  0.        ,  0.        ,\n",
       "        ...,  0.0625    ,  0.        ,  0.        ,  0.        ,  0.        ,  0.        ,  0.9375    ,  0.75      ,  0.        ,  0.        ],\n",
       "       [ 0.        ,  0.5       ,  1.        ,  1.        ,  1.        ,  0.625     ,  0.1875    ,  0.        ,  0.        ,  0.75      ,\n",
       "        ...,  0.        ,  0.        ,  0.        ,  0.44444444,  1.        ,  0.8125    ,  0.1875    ,  0.        ,  0.        ,  0.        ],\n",
       "       [ 0.        ,  0.125     ,  0.5625    ,  0.75      ,  1.        ,  1.        ,  0.25      ,  0.        ,  0.        ,  0.0625    ,\n",
       "        ...,  0.        ,  0.        ,  0.        ,  0.        ,  0.875     ,  0.625     ,  0.        ,  0.        ,  0.        ,  0.        ],\n",
       "       [ 0.        ,  0.        ,  0.6875    ,  0.875     ,  0.625     ,  0.0625    ,  0.        ,  0.        ,  0.        ,  0.        ,\n",
       "        ...,  0.        ,  0.        ,  0.        ,  0.        ,  0.4375    ,  0.875     ,  0.9375    ,  0.6875    ,  0.        ,  0.        ],\n",
       "       [ 0.        ,  0.        ,  0.5       ,  0.8125    ,  0.6875    ,  0.0625    ,  0.        ,  0.        ,  0.        ,  0.25      ,\n",
       "        ...,  0.75      ,  0.        ,  0.        ,  0.        ,  0.375     ,  0.875     ,  1.        ,  0.9375    ,  0.3125    ,  0.        ],\n",
       "       [ 0.        ,  0.        ,  0.5       ,  1.        ,  0.8125    ,  0.        ,  0.        ,  0.        ,  0.        ,  0.        ,\n",
       "        ...,  0.        ,  0.        ,  0.        ,  0.        ,  0.75      ,  0.5625    ,  0.        ,  0.        ,  0.        ,  0.        ],\n",
       "       [ 0.        ,  0.        ,  0.875     ,  1.        ,  0.5       ,  0.        ,  0.        ,  0.        ,  0.        ,  0.        ,\n",
       "        ...,  0.        ,  0.        ,  0.        ,  0.        ,  0.875     ,  0.9375    ,  0.75      ,  0.0625    ,  0.        ,  0.        ],\n",
       "       [ 0.        ,  0.125     ,  0.8125    ,  1.        ,  0.75      ,  0.0625    ,  0.        ,  0.        ,  0.        ,  0.0625    ,\n",
       "        ...,  0.1875    ,  0.        ,  0.        ,  0.        ,  0.875     ,  1.        ,  0.6875    ,  0.3125    ,  0.        ,  0.        ]])"
      ]
     },
     "execution_count": 56,
     "metadata": {},
     "output_type": "execute_result"
    }
   ],
   "source": [
    "X_test_minmax = min_max_scaler.fit_transform(X_test)\n",
    "X_test_minmax"
   ]
  },
  {
   "cell_type": "code",
   "execution_count": 57,
   "metadata": {
    "collapsed": false,
    "scrolled": true
   },
   "outputs": [
    {
     "data": {
      "text/plain": [
       "array([[        nan,  0.        ,  0.3125    ,  0.8125    ,  0.5625    ,  0.0625    ,  0.        ,  0.        ,  0.        ,  0.        ,\n",
       "        ...,  0.        ,  0.        ,  0.        ,  0.        ,  0.375     ,  0.8125    ,  0.625     ,  0.        ,  0.        ,  0.        ],\n",
       "       [        nan,  0.        ,  0.        ,  0.75      ,  0.8125    ,  0.3125    ,  0.        ,  0.        ,  0.        ,  0.        ,\n",
       "        ...,  0.        ,  0.        ,  0.        ,  0.        ,  0.        ,  0.6875    ,  1.        ,  0.625     ,  0.        ,  0.        ],\n",
       "       [        nan,  0.        ,  0.        ,  0.25      ,  0.9375    ,  0.75      ,  0.        ,  0.        ,  0.        ,  0.        ,\n",
       "        ...,  0.3125    ,  0.        ,  0.        ,  0.        ,  0.        ,  0.1875    ,  0.6875    ,  1.        ,  0.5625    ,  0.        ],\n",
       "       [        nan,  0.        ,  0.4375    ,  0.9375    ,  0.8125    ,  0.0625    ,  0.        ,  0.        ,  0.        ,  0.5       ,\n",
       "        ...,  0.5625    ,  0.        ,  0.        ,  0.        ,  0.4375    ,  0.8125    ,  0.8125    ,  0.5625    ,  0.        ,  0.        ],\n",
       "       [        nan,  0.        ,  0.        ,  0.0625    ,  0.6875    ,  0.        ,  0.        ,  0.        ,  0.        ,  0.        ,\n",
       "        ...,  0.        ,  0.        ,  0.        ,  0.        ,  0.        ,  0.125     ,  1.        ,  0.25      ,  0.        ,  0.        ],\n",
       "       [        nan,  0.        ,  0.75      ,  0.625     ,  0.        ,  0.        ,  0.        ,  0.        ,  0.        ,  0.        ,\n",
       "        ...,  0.25      ,  0.        ,  0.        ,  0.        ,  0.5625    ,  1.        ,  1.        ,  0.625     ,  0.        ,  0.        ],\n",
       "       [        nan,  0.        ,  0.        ,  0.75      ,  0.8125    ,  0.        ,  0.        ,  0.        ,  0.        ,  0.        ,\n",
       "        ...,  0.5       ,  0.        ,  0.        ,  0.        ,  0.0625    ,  0.5625    ,  0.9375    ,  0.6875    ,  0.1875    ,  0.        ],\n",
       "       [        nan,  0.        ,  0.4375    ,  0.5       ,  0.8125    ,  1.        ,  0.9375    ,  0.06666667,  0.        ,  0.        ,\n",
       "        ...,  0.        ,  0.        ,  0.        ,  0.        ,  0.8125    ,  0.3125    ,  0.        ,  0.        ,  0.        ,  0.        ],\n",
       "       [        nan,  0.        ,  0.5625    ,  0.875     ,  0.5       ,  0.0625    ,  0.        ,  0.        ,  0.        ,  0.        ,\n",
       "        ...,  0.5       ,  0.        ,  0.        ,  0.        ,  0.6875    ,  1.        ,  0.9375    ,  0.6875    ,  0.0625    ,  0.        ],\n",
       "       [        nan,  0.        ,  0.6875    ,  0.75      ,  0.        ,  0.        ,  0.        ,  0.        ,  0.        ,  0.125     ,\n",
       "        ...,  0.25      ,  0.        ,  0.        ,  0.        ,  0.5625    ,  0.75      ,  0.8125    ,  0.1875    ,  0.        ,  0.        ],\n",
       "       ..., \n",
       "       [        nan,  0.        ,  0.625     ,  1.        ,  0.9375    ,  0.0625    ,  0.        ,  0.        ,  0.        ,  0.        ,\n",
       "        ...,  0.1875    ,  0.        ,  0.        ,  0.        ,  0.375     ,  0.8125    ,  0.625     ,  0.25      ,  0.        ,  0.        ],\n",
       "       [        nan,  0.        ,  0.        ,  0.0625    ,  0.75      ,  0.375     ,  0.        ,  0.        ,  0.        ,  0.        ,\n",
       "        ...,  0.        ,  0.        ,  0.        ,  0.        ,  0.        ,  0.        ,  0.875     ,  0.5625    ,  0.        ,  0.        ],\n",
       "       [        nan,  0.        ,  0.5       ,  1.        ,  0.1875    ,  0.        ,  0.0625    ,  0.        ,  0.        ,  0.        ,\n",
       "        ...,  0.        ,  0.        ,  0.        ,  0.        ,  0.625     ,  1.        ,  0.625     ,  0.0625    ,  0.        ,  0.        ],\n",
       "       [        nan,  0.        ,  0.3125    ,  0.75      ,  0.5       ,  0.        ,  0.0625    ,  0.        ,  0.        ,  0.        ,\n",
       "        ...,  0.        ,  0.        ,  0.        ,  0.        ,  0.375     ,  0.75      ,  0.75      ,  0.1875    ,  0.        ,  0.        ],\n",
       "       [        nan,  0.        ,  0.        ,  0.1875    ,  0.9375    ,  0.25      ,  0.        ,  0.        ,  0.        ,  0.        ,\n",
       "        ...,  0.        ,  0.        ,  0.        ,  0.        ,  0.        ,  0.0625    ,  1.        ,  0.25      ,  0.        ,  0.        ],\n",
       "       [        nan,  0.        ,  0.25      ,  0.625     ,  0.8125    ,  0.375     ,  0.        ,  0.        ,  0.        ,  0.0625    ,\n",
       "        ...,  0.25      ,  0.        ,  0.        ,  0.        ,  0.125     ,  0.875     ,  0.9375    ,  0.5625    ,  0.        ,  0.        ],\n",
       "       [        nan,  0.        ,  0.375     ,  1.        ,  0.8125    ,  0.6875    ,  0.0625    ,  0.        ,  0.        ,  0.        ,\n",
       "        ...,  0.0625    ,  0.        ,  0.        ,  0.        ,  0.375     ,  1.        ,  0.875     ,  0.375     ,  0.        ,  0.        ],\n",
       "       [        nan,  0.        ,  0.0625    ,  0.6875    ,  0.9375    ,  0.0625    ,  0.        ,  0.        ,  0.        ,  0.        ,\n",
       "        ...,  0.        ,  0.        ,  0.        ,  0.        ,  0.125     ,  0.5625    ,  0.8125    ,  0.375     ,  0.        ,  0.        ],\n",
       "       [        nan,  0.        ,  0.125     ,  0.625     ,  0.4375    ,  0.        ,  0.        ,  0.        ,  0.        ,  0.        ,\n",
       "        ...,  0.125     ,  0.        ,  0.        ,  0.        ,  0.3125    ,  0.75      ,  1.        ,  0.75      ,  0.        ,  0.        ],\n",
       "       [        nan,  0.        ,  0.625     ,  0.875     ,  0.5       ,  0.0625    ,  0.        ,  0.        ,  0.        ,  0.125     ,\n",
       "        ...,  0.5       ,  0.        ,  0.        ,  0.11111111,  0.5       ,  0.75      ,  0.875     ,  0.75      ,  0.0625    ,  0.        ]])"
      ]
     },
     "execution_count": 57,
     "metadata": {},
     "output_type": "execute_result"
    }
   ],
   "source": [
    "X_std = (data - data.min(axis=0)) / (data.max(axis=0) - data.min(axis=0))\n",
    "X_std"
   ]
  },
  {
   "cell_type": "code",
   "execution_count": 58,
   "metadata": {
    "collapsed": false,
    "scrolled": true
   },
   "outputs": [],
   "source": [
    "X_normalized = preprocessing.normalize(X_scaled, norm='l2')\n"
   ]
  },
  {
   "cell_type": "code",
   "execution_count": 59,
   "metadata": {
    "collapsed": false
   },
   "outputs": [
    {
     "name": "stdout",
     "output_type": "stream",
     "text": [
      "0.982222222222\n"
     ]
    }
   ],
   "source": [
    "X_train, X_test, y_train, y_test = train_test_split(data, y, random_state=1)\n",
    "\n",
    "clf = KNeighborsClassifier(n_neighbors=1, algorithm='auto', leaf_size=30, p=2)\n",
    "\n",
    "clf.fit(X_normalized,y_train)\n",
    "y_pred = clf.predict(X_scaled_test)\n",
    "\n",
    "print(metrics.accuracy_score(y_test, y_pred))"
   ]
  },
  {
   "cell_type": "markdown",
   "metadata": {},
   "source": [
    "## 12.Write down which kind of normalization, K, p and weight gave optimal cross-validation accuracy and what this accuracy was"
   ]
  },
  {
   "cell_type": "code",
   "execution_count": 60,
   "metadata": {
    "collapsed": false
   },
   "outputs": [
    {
     "name": "stdout",
     "output_type": "stream",
     "text": [
      "0.982222222222\n"
     ]
    }
   ],
   "source": [
    "# calculate accuracy\n",
    "from sklearn import metrics\n",
    "\n",
    "from sklearn.grid_search import GridSearchCV\n",
    "\n",
    "k_range = list(range(1, 31))\n",
    "weight_options = ['uniform', 'distance']\n",
    "p_range = list(range(1,15))\n",
    "\n",
    "param_grid = dict(n_neighbors=k_range, weights=weight_options)\n",
    "\n",
    "grid = GridSearchCV(clf, param_grid, cv=10, scoring='accuracy')\n",
    "print(metrics.accuracy_score(y_test, y_pred))\n",
    "\n",
    "\n",
    "\n"
   ]
  },
  {
   "cell_type": "markdown",
   "metadata": {},
   "source": [
    "### Scale normalization (l2), K=1, p=2 accuracy = 0.982"
   ]
  },
  {
   "cell_type": "markdown",
   "metadata": {},
   "source": [
    "## Apply the model with best features and best parameters to X_test, Y_test\n",
    "* show accuracy\n",
    "* show confusion matrix. \n",
    "* which type of mistake is the most common?\n",
    "* visualize several objects having this type of mistake"
   ]
  },
  {
   "cell_type": "code",
   "execution_count": 62,
   "metadata": {
    "collapsed": false
   },
   "outputs": [
    {
     "name": "stdout",
     "output_type": "stream",
     "text": [
      "0.982222222222\n",
      "Confusion matrix:\n",
      "[[53  0  0  0  0  0  0  0  0  0]\n",
      " [ 0 42  0  0  0  0  0  0  0  0]\n",
      " [ 0  0 39  1  0  0  0  0  0  0]\n",
      " [ 0  0  1 51  0  0  0  0  2  1]\n",
      " [ 0  0  0  0 47  0  0  0  0  0]\n",
      " [ 0  0  0  0  0 38  0  0  0  0]\n",
      " [ 0  0  0  0  0  0 43  0  0  0]\n",
      " [ 0  0  1  0  0  0  0 47  0  0]\n",
      " [ 0  0  0  0  0  0  0  0 35  0]\n",
      " [ 0  0  0  0  0  1  0  1  0 47]]\n"
     ]
    }
   ],
   "source": [
    "clf = KNeighborsClassifier(n_neighbors=1, weights='uniform', algorithm='auto', leaf_size=30, p=2)\n",
    "clf.fit(X_normalized,y_train)\n",
    "y_pred = clf.predict(X_scaled_test)\n",
    "\n",
    "print(metrics.accuracy_score(y_test, y_pred))\n",
    "print(\"Confusion matrix:\\n%s\" % metrics.confusion_matrix(y_pred, y_test))\n"
   ]
  },
  {
   "cell_type": "code",
   "execution_count": 72,
   "metadata": {
    "collapsed": false,
    "scrolled": true
   },
   "outputs": [
    {
     "name": "stderr",
     "output_type": "stream",
     "text": [
      "C:\\Anaconda\\lib\\site-packages\\ipykernel\\__main__.py:4: DeprecationWarning: using a non-integer number instead of an integer will result in an error in the future\n",
      "C:\\Anaconda\\lib\\site-packages\\ipykernel\\__main__.py:5: DeprecationWarning: using a non-integer number instead of an integer will result in an error in the future\n"
     ]
    },
    {
     "name": "stdout",
     "output_type": "stream",
     "text": [
      "Classification report for classifier KNeighborsClassifier(algorithm='auto', leaf_size=30, metric='minkowski',\n",
      "           metric_params=None, n_jobs=1, n_neighbors=1, p=2,\n",
      "           weights='uniform'):\n",
      "             precision    recall  f1-score   support\n",
      "\n",
      "          0       0.88      0.99      0.93        88\n",
      "          1       0.32      0.89      0.47        91\n",
      "          2       0.98      0.70      0.82        86\n",
      "          3       1.00      0.71      0.83        91\n",
      "          4       1.00      0.36      0.53        92\n",
      "          5       0.98      0.68      0.81        91\n",
      "          6       0.87      0.89      0.88        91\n",
      "          7       1.00      0.43      0.60        89\n",
      "          8       0.61      0.67      0.64        88\n",
      "          9       0.80      0.86      0.83        92\n",
      "\n",
      "avg / total       0.84      0.72      0.73       899\n",
      "\n",
      "\n",
      "Confusion matrix:\n",
      "[[87  1  0  0  0  0  0  0  0  0]\n",
      " [ 0 81  0  0  0  0  0  0 10  0]\n",
      " [ 0 25 60  0  0  0  0  0  1  0]\n",
      " [ 0 14  0 65  0  0  0  0  4  8]\n",
      " [12 34  0  0 33  0  9  0  4  0]\n",
      " [ 0  8  0  0  0 62  3  0  6 12]\n",
      " [ 0 10  0  0  0  0 81  0  0  0]\n",
      " [ 0 49  1  0  0  0  0 38  1  0]\n",
      " [ 0 29  0  0  0  0  0  0 59  0]\n",
      " [ 0  0  0  0  0  1  0  0 12 79]]\n"
     ]
    }
   ],
   "source": [
    "n_samples = len(digits.images)\n",
    "data = digits.images.reshape((n_samples, -1))\n",
    "\n",
    "expected = digits.target[n_samples / 2:]\n",
    "predicted = clf.predict(data[n_samples / 2:])\n",
    "print(\"Classification report for classifier %s:\\n%s\\n\"\n",
    "      % (clf, metrics.classification_report(expected, predicted)))\n",
    "print(\"Confusion matrix:\\n%s\" % metrics.confusion_matrix(expected, predicted))\n",
    "\n"
   ]
  },
  {
   "cell_type": "code",
   "execution_count": 74,
   "metadata": {
    "collapsed": false
   },
   "outputs": [
    {
     "name": "stderr",
     "output_type": "stream",
     "text": [
      "C:\\Anaconda\\lib\\site-packages\\ipykernel\\__main__.py:1: DeprecationWarning: using a non-integer number instead of an integer will result in an error in the future\n",
      "  if __name__ == '__main__':\n"
     ]
    },
    {
     "data": {
      "image/png": "[encoded data removed]",
      "text/plain": [
       "<matplotlib.figure.Figure at 0x585a1bd5f8>"
      ]
     },
     "metadata": {},
     "output_type": "display_data"
    }
   ],
   "source": [
    "images_and_predictions = list(zip(digits.images[n_samples / 2:], predicted))\n",
    "for index, (image, prediction) in enumerate(images_and_predictions[:4]):\n",
    "    plt.subplot(2, 4, index + 5)\n",
    "    plt.axis('off')\n",
    "    plt.imshow(image, cmap=plt.cm.gray_r, interpolation='nearest')\n",
    "    plt.title('Prediction: %i' % prediction)\n",
    "\n",
    "plt.show()"
   ]
  },
  {
   "cell_type": "markdown",
   "metadata": {},
   "source": [
    "Useful function **skl.metrics.accuracy_score** and **skl.metrics.confusion_matrix**"
   ]
  }
 ],
 "metadata": {
  "kernelspec": {
   "display_name": "Python 3",
   "language": "python",
   "name": "python3"
  },
  "language_info": {
   "codemirror_mode": {
    "name": "ipython",
    "version": 3
   },
   "file_extension": ".py",
   "mimetype": "text/x-python",
   "name": "python",
   "nbconvert_exporter": "python",
   "pygments_lexer": "ipython3",
   "version": "3.5.1"
  }
 },
 "nbformat": 4,
 "nbformat_minor": 0
}
