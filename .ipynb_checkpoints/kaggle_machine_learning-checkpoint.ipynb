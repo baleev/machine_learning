{
 "cells": [
  {
   "cell_type": "code",
   "execution_count": 1,
   "metadata": {
    "collapsed": true
   },
   "outputs": [],
   "source": [
    "import pandas as pd"
   ]
  },
  {
   "cell_type": "code",
   "execution_count": 2,
   "metadata": {
    "collapsed": false
   },
   "outputs": [],
   "source": [
    "csv = pd.read_csv('train.csv', encoding='cp1251', index_col='PostId', parse_dates=['PostCreationDate', 'OwnerCreationDate', 'PostClosedDate'],\n",
    "                  infer_datetime_format=True, )"
   ]
  },
  {
   "cell_type": "code",
   "execution_count": 3,
   "metadata": {
    "collapsed": false,
    "scrolled": true
   },
   "outputs": [
    {
     "data": {
      "text/html": [
       "<div>\n",
       "<table border=\"1\" class=\"dataframe\">\n",
       "  <thead>\n",
       "    <tr style=\"text-align: right;\">\n",
       "      <th></th>\n",
       "      <th>PostCreationDate</th>\n",
       "      <th>OwnerUserId</th>\n",
       "      <th>OwnerCreationDate</th>\n",
       "      <th>ReputationAtPostCreation</th>\n",
       "      <th>OwnerUndeletedAnswerCountAtPostTime</th>\n",
       "      <th>Title</th>\n",
       "      <th>BodyMarkdown</th>\n",
       "      <th>Tag1</th>\n",
       "      <th>Tag2</th>\n",
       "      <th>Tag3</th>\n",
       "      <th>Tag4</th>\n",
       "      <th>Tag5</th>\n",
       "      <th>PostClosedDate</th>\n",
       "      <th>OpenStatus</th>\n",
       "    </tr>\n",
       "    <tr>\n",
       "      <th>PostId</th>\n",
       "      <th></th>\n",
       "      <th></th>\n",
       "      <th></th>\n",
       "      <th></th>\n",
       "      <th></th>\n",
       "      <th></th>\n",
       "      <th></th>\n",
       "      <th></th>\n",
       "      <th></th>\n",
       "      <th></th>\n",
       "      <th></th>\n",
       "      <th></th>\n",
       "      <th></th>\n",
       "      <th></th>\n",
       "    </tr>\n",
       "  </thead>\n",
       "  <tbody>\n",
       "    <tr>\n",
       "      <th>1402214</th>\n",
       "      <td>2011-08-10 21:24:36</td>\n",
       "      <td>877278</td>\n",
       "      <td>2011-08-03 17:57:10</td>\n",
       "      <td>17</td>\n",
       "      <td>0</td>\n",
       "      <td>GET/Post values don't be refreshed/parsed by t...</td>\n",
       "      <td>![Get-values don't be refreshed][1]\\r\\r\\n\\r\\r\\...</td>\n",
       "      <td>php</td>\n",
       "      <td>apache</td>\n",
       "      <td>NaN</td>\n",
       "      <td>NaN</td>\n",
       "      <td>NaN</td>\n",
       "      <td>2011-08-10 21:57:14</td>\n",
       "      <td>1</td>\n",
       "    </tr>\n",
       "    <tr>\n",
       "      <th>2338671</th>\n",
       "      <td>2011-07-09 15:46:51</td>\n",
       "      <td>45954</td>\n",
       "      <td>2008-12-12 21:03:08</td>\n",
       "      <td>1757</td>\n",
       "      <td>22</td>\n",
       "      <td>Search control in Haskell</td>\n",
       "      <td>Suppose you're writing a program that searches...</td>\n",
       "      <td>search</td>\n",
       "      <td>haskell</td>\n",
       "      <td>lazy-evaluation</td>\n",
       "      <td>inference</td>\n",
       "      <td>NaN</td>\n",
       "      <td>NaT</td>\n",
       "      <td>0</td>\n",
       "    </tr>\n",
       "    <tr>\n",
       "      <th>2042048</th>\n",
       "      <td>2011-05-03 15:48:34</td>\n",
       "      <td>1185829</td>\n",
       "      <td>2011-03-28 13:20:36</td>\n",
       "      <td>1</td>\n",
       "      <td>0</td>\n",
       "      <td>jQuery: event.preventdefault not working with ...</td>\n",
       "      <td>I have this bit of jQuery toggling a paragraph...</td>\n",
       "      <td>jquery</td>\n",
       "      <td>firefox</td>\n",
       "      <td>toggle</td>\n",
       "      <td>preventdefault</td>\n",
       "      <td>NaN</td>\n",
       "      <td>NaT</td>\n",
       "      <td>0</td>\n",
       "    </tr>\n",
       "    <tr>\n",
       "      <th>1672620</th>\n",
       "      <td>2011-12-07 17:28:40</td>\n",
       "      <td>1086278</td>\n",
       "      <td>2011-12-07 17:18:32</td>\n",
       "      <td>1</td>\n",
       "      <td>0</td>\n",
       "      <td>java 2 dimensional arrays</td>\n",
       "      <td>\\\\I need to look through an array from east to...</td>\n",
       "      <td>java</td>\n",
       "      <td>arrays</td>\n",
       "      <td>NaN</td>\n",
       "      <td>NaN</td>\n",
       "      <td>NaN</td>\n",
       "      <td>2011-12-07 18:33:56</td>\n",
       "      <td>4</td>\n",
       "    </tr>\n",
       "    <tr>\n",
       "      <th>3103106</th>\n",
       "      <td>2011-12-16 04:07:33</td>\n",
       "      <td>1002323</td>\n",
       "      <td>2011-10-19 00:33:34</td>\n",
       "      <td>16</td>\n",
       "      <td>2</td>\n",
       "      <td>Which interface is used to detect key events f...</td>\n",
       "      <td>I've created a simple custom dialog that asks ...</td>\n",
       "      <td>android</td>\n",
       "      <td>sdk</td>\n",
       "      <td>dialog</td>\n",
       "      <td>onkeyup</td>\n",
       "      <td>onkeydown</td>\n",
       "      <td>NaT</td>\n",
       "      <td>0</td>\n",
       "    </tr>\n",
       "  </tbody>\n",
       "</table>\n",
       "</div>"
      ],
      "text/plain": [
       "           PostCreationDate  OwnerUserId   OwnerCreationDate  \\\n",
       "PostId                                                         \n",
       "1402214 2011-08-10 21:24:36       877278 2011-08-03 17:57:10   \n",
       "2338671 2011-07-09 15:46:51        45954 2008-12-12 21:03:08   \n",
       "2042048 2011-05-03 15:48:34      1185829 2011-03-28 13:20:36   \n",
       "1672620 2011-12-07 17:28:40      1086278 2011-12-07 17:18:32   \n",
       "3103106 2011-12-16 04:07:33      1002323 2011-10-19 00:33:34   \n",
       "\n",
       "         ReputationAtPostCreation  OwnerUndeletedAnswerCountAtPostTime  \\\n",
       "PostId                                                                   \n",
       "1402214                        17                                    0   \n",
       "2338671                      1757                                   22   \n",
       "2042048                         1                                    0   \n",
       "1672620                         1                                    0   \n",
       "3103106                        16                                    2   \n",
       "\n",
       "                                                     Title  \\\n",
       "PostId                                                       \n",
       "1402214  GET/Post values don't be refreshed/parsed by t...   \n",
       "2338671                          Search control in Haskell   \n",
       "2042048  jQuery: event.preventdefault not working with ...   \n",
       "1672620                          java 2 dimensional arrays   \n",
       "3103106  Which interface is used to detect key events f...   \n",
       "\n",
       "                                              BodyMarkdown     Tag1     Tag2  \\\n",
       "PostId                                                                         \n",
       "1402214  ![Get-values don't be refreshed][1]\\r\\r\\n\\r\\r\\...      php   apache   \n",
       "2338671  Suppose you're writing a program that searches...   search  haskell   \n",
       "2042048  I have this bit of jQuery toggling a paragraph...   jquery  firefox   \n",
       "1672620  \\\\I need to look through an array from east to...     java   arrays   \n",
       "3103106  I've created a simple custom dialog that asks ...  android      sdk   \n",
       "\n",
       "                    Tag3            Tag4       Tag5      PostClosedDate  \\\n",
       "PostId                                                                    \n",
       "1402214              NaN             NaN        NaN 2011-08-10 21:57:14   \n",
       "2338671  lazy-evaluation       inference        NaN                 NaT   \n",
       "2042048           toggle  preventdefault        NaN                 NaT   \n",
       "1672620              NaN             NaN        NaN 2011-12-07 18:33:56   \n",
       "3103106           dialog         onkeyup  onkeydown                 NaT   \n",
       "\n",
       "         OpenStatus  \n",
       "PostId               \n",
       "1402214           1  \n",
       "2338671           0  \n",
       "2042048           0  \n",
       "1672620           4  \n",
       "3103106           0  "
      ]
     },
     "execution_count": 3,
     "metadata": {},
     "output_type": "execute_result"
    }
   ],
   "source": [
    "csv.head()"
   ]
  },
  {
   "cell_type": "code",
   "execution_count": 4,
   "metadata": {
    "collapsed": true
   },
   "outputs": [],
   "source": [
    "import re\n",
    "CodeBlockPattern = re.compile(r'\\r\\r\\n\\r\\r\\n.*\\r\\r\\n\\r\\r\\n')\n",
    "def removeMarkdown(str):\n",
    "    str = re.sub(CodeBlockPattern, repl='', string = str)\n",
    "    return re.sub(r'\\r\\r\\n', repl='', string = str)"
   ]
  },
  {
   "cell_type": "code",
   "execution_count": 5,
   "metadata": {
    "collapsed": false
   },
   "outputs": [],
   "source": [
    "csv['CleanBody'] = [ removeMarkdown(x) for x in csv['BodyMarkdown']]"
   ]
  },
  {
   "cell_type": "code",
   "execution_count": 6,
   "metadata": {
    "collapsed": false,
    "scrolled": true
   },
   "outputs": [
    {
     "data": {
      "text/html": [
       "<div>\n",
       "<table border=\"1\" class=\"dataframe\">\n",
       "  <thead>\n",
       "    <tr style=\"text-align: right;\">\n",
       "      <th></th>\n",
       "      <th>PostCreationDate</th>\n",
       "      <th>OwnerUserId</th>\n",
       "      <th>OwnerCreationDate</th>\n",
       "      <th>ReputationAtPostCreation</th>\n",
       "      <th>OwnerUndeletedAnswerCountAtPostTime</th>\n",
       "      <th>Title</th>\n",
       "      <th>BodyMarkdown</th>\n",
       "      <th>Tag1</th>\n",
       "      <th>Tag2</th>\n",
       "      <th>Tag3</th>\n",
       "      <th>Tag4</th>\n",
       "      <th>Tag5</th>\n",
       "      <th>PostClosedDate</th>\n",
       "      <th>OpenStatus</th>\n",
       "      <th>CleanBody</th>\n",
       "    </tr>\n",
       "    <tr>\n",
       "      <th>PostId</th>\n",
       "      <th></th>\n",
       "      <th></th>\n",
       "      <th></th>\n",
       "      <th></th>\n",
       "      <th></th>\n",
       "      <th></th>\n",
       "      <th></th>\n",
       "      <th></th>\n",
       "      <th></th>\n",
       "      <th></th>\n",
       "      <th></th>\n",
       "      <th></th>\n",
       "      <th></th>\n",
       "      <th></th>\n",
       "      <th></th>\n",
       "    </tr>\n",
       "  </thead>\n",
       "  <tbody>\n",
       "    <tr>\n",
       "      <th>1402214</th>\n",
       "      <td>2011-08-10 21:24:36</td>\n",
       "      <td>877278</td>\n",
       "      <td>2011-08-03 17:57:10</td>\n",
       "      <td>17</td>\n",
       "      <td>0</td>\n",
       "      <td>GET/Post values don't be refreshed/parsed by t...</td>\n",
       "      <td>![Get-values don't be refreshed][1]\\r\\r\\n\\r\\r\\...</td>\n",
       "      <td>php</td>\n",
       "      <td>apache</td>\n",
       "      <td>NaN</td>\n",
       "      <td>NaN</td>\n",
       "      <td>NaN</td>\n",
       "      <td>2011-08-10 21:57:14</td>\n",
       "      <td>1</td>\n",
       "      <td>![Get-values don't be refreshed][1]How you see...</td>\n",
       "    </tr>\n",
       "    <tr>\n",
       "      <th>2338671</th>\n",
       "      <td>2011-07-09 15:46:51</td>\n",
       "      <td>45954</td>\n",
       "      <td>2008-12-12 21:03:08</td>\n",
       "      <td>1757</td>\n",
       "      <td>22</td>\n",
       "      <td>Search control in Haskell</td>\n",
       "      <td>Suppose you're writing a program that searches...</td>\n",
       "      <td>search</td>\n",
       "      <td>haskell</td>\n",
       "      <td>lazy-evaluation</td>\n",
       "      <td>inference</td>\n",
       "      <td>NaN</td>\n",
       "      <td>NaT</td>\n",
       "      <td>0</td>\n",
       "      <td>Suppose you're writing a program that searches...</td>\n",
       "    </tr>\n",
       "    <tr>\n",
       "      <th>2042048</th>\n",
       "      <td>2011-05-03 15:48:34</td>\n",
       "      <td>1185829</td>\n",
       "      <td>2011-03-28 13:20:36</td>\n",
       "      <td>1</td>\n",
       "      <td>0</td>\n",
       "      <td>jQuery: event.preventdefault not working with ...</td>\n",
       "      <td>I have this bit of jQuery toggling a paragraph...</td>\n",
       "      <td>jquery</td>\n",
       "      <td>firefox</td>\n",
       "      <td>toggle</td>\n",
       "      <td>preventdefault</td>\n",
       "      <td>NaN</td>\n",
       "      <td>NaT</td>\n",
       "      <td>0</td>\n",
       "      <td>I have this bit of jQuery toggling a paragraph...</td>\n",
       "    </tr>\n",
       "    <tr>\n",
       "      <th>1672620</th>\n",
       "      <td>2011-12-07 17:28:40</td>\n",
       "      <td>1086278</td>\n",
       "      <td>2011-12-07 17:18:32</td>\n",
       "      <td>1</td>\n",
       "      <td>0</td>\n",
       "      <td>java 2 dimensional arrays</td>\n",
       "      <td>\\\\I need to look through an array from east to...</td>\n",
       "      <td>java</td>\n",
       "      <td>arrays</td>\n",
       "      <td>NaN</td>\n",
       "      <td>NaN</td>\n",
       "      <td>NaN</td>\n",
       "      <td>2011-12-07 18:33:56</td>\n",
       "      <td>4</td>\n",
       "      <td>\\\\I need to look through an array from east to...</td>\n",
       "    </tr>\n",
       "    <tr>\n",
       "      <th>3103106</th>\n",
       "      <td>2011-12-16 04:07:33</td>\n",
       "      <td>1002323</td>\n",
       "      <td>2011-10-19 00:33:34</td>\n",
       "      <td>16</td>\n",
       "      <td>2</td>\n",
       "      <td>Which interface is used to detect key events f...</td>\n",
       "      <td>I've created a simple custom dialog that asks ...</td>\n",
       "      <td>android</td>\n",
       "      <td>sdk</td>\n",
       "      <td>dialog</td>\n",
       "      <td>onkeyup</td>\n",
       "      <td>onkeydown</td>\n",
       "      <td>NaT</td>\n",
       "      <td>0</td>\n",
       "      <td>I've created a simple custom dialog that asks ...</td>\n",
       "    </tr>\n",
       "  </tbody>\n",
       "</table>\n",
       "</div>"
      ],
      "text/plain": [
       "           PostCreationDate  OwnerUserId   OwnerCreationDate  \\\n",
       "PostId                                                         \n",
       "1402214 2011-08-10 21:24:36       877278 2011-08-03 17:57:10   \n",
       "2338671 2011-07-09 15:46:51        45954 2008-12-12 21:03:08   \n",
       "2042048 2011-05-03 15:48:34      1185829 2011-03-28 13:20:36   \n",
       "1672620 2011-12-07 17:28:40      1086278 2011-12-07 17:18:32   \n",
       "3103106 2011-12-16 04:07:33      1002323 2011-10-19 00:33:34   \n",
       "\n",
       "         ReputationAtPostCreation  OwnerUndeletedAnswerCountAtPostTime  \\\n",
       "PostId                                                                   \n",
       "1402214                        17                                    0   \n",
       "2338671                      1757                                   22   \n",
       "2042048                         1                                    0   \n",
       "1672620                         1                                    0   \n",
       "3103106                        16                                    2   \n",
       "\n",
       "                                                     Title  \\\n",
       "PostId                                                       \n",
       "1402214  GET/Post values don't be refreshed/parsed by t...   \n",
       "2338671                          Search control in Haskell   \n",
       "2042048  jQuery: event.preventdefault not working with ...   \n",
       "1672620                          java 2 dimensional arrays   \n",
       "3103106  Which interface is used to detect key events f...   \n",
       "\n",
       "                                              BodyMarkdown     Tag1     Tag2  \\\n",
       "PostId                                                                         \n",
       "1402214  ![Get-values don't be refreshed][1]\\r\\r\\n\\r\\r\\...      php   apache   \n",
       "2338671  Suppose you're writing a program that searches...   search  haskell   \n",
       "2042048  I have this bit of jQuery toggling a paragraph...   jquery  firefox   \n",
       "1672620  \\\\I need to look through an array from east to...     java   arrays   \n",
       "3103106  I've created a simple custom dialog that asks ...  android      sdk   \n",
       "\n",
       "                    Tag3            Tag4       Tag5      PostClosedDate  \\\n",
       "PostId                                                                    \n",
       "1402214              NaN             NaN        NaN 2011-08-10 21:57:14   \n",
       "2338671  lazy-evaluation       inference        NaN                 NaT   \n",
       "2042048           toggle  preventdefault        NaN                 NaT   \n",
       "1672620              NaN             NaN        NaN 2011-12-07 18:33:56   \n",
       "3103106           dialog         onkeyup  onkeydown                 NaT   \n",
       "\n",
       "         OpenStatus                                          CleanBody  \n",
       "PostId                                                                  \n",
       "1402214           1  ![Get-values don't be refreshed][1]How you see...  \n",
       "2338671           0  Suppose you're writing a program that searches...  \n",
       "2042048           0  I have this bit of jQuery toggling a paragraph...  \n",
       "1672620           4  \\\\I need to look through an array from east to...  \n",
       "3103106           0  I've created a simple custom dialog that asks ...  "
      ]
     },
     "execution_count": 6,
     "metadata": {},
     "output_type": "execute_result"
    }
   ],
   "source": [
    "csv.head()"
   ]
  },
  {
   "cell_type": "code",
   "execution_count": 7,
   "metadata": {
    "collapsed": true
   },
   "outputs": [],
   "source": [
    "from sklearn.feature_extraction.text import CountVectorizer\n",
    "vectorizer = CountVectorizer()"
   ]
  },
  {
   "cell_type": "code",
   "execution_count": 8,
   "metadata": {
    "collapsed": true
   },
   "outputs": [],
   "source": [
    "X_train_counts = vectorizer.fit_transform(csv.CleanBody.values)"
   ]
  },
  {
   "cell_type": "code",
   "execution_count": 9,
   "metadata": {
    "collapsed": true
   },
   "outputs": [],
   "source": [
    "from sklearn.feature_extraction.text import TfidfTransformer\n",
    "tfidf_transformer = TfidfTransformer()\n",
    "X_train_tfidf = tfidf_transformer.fit_transform(X_train_counts)"
   ]
  },
  {
   "cell_type": "code",
   "execution_count": 10,
   "metadata": {
    "collapsed": true
   },
   "outputs": [],
   "source": [
    "from sklearn.grid_search import GridSearchCV\n",
    "from sklearn.neighbors import KNeighborsClassifier\n",
    "from sklearn.cross_validation import cross_val_score"
   ]
  },
  {
   "cell_type": "code",
   "execution_count": 12,
   "metadata": {
    "collapsed": false
   },
   "outputs": [],
   "source": [
    "from sklearn.naive_bayes import BernoulliNB as bnb\n",
    "clf = bnb().fit(X_train_tfidf, csv.OpenStatus)"
   ]
  },
  {
   "cell_type": "code",
   "execution_count": 13,
   "metadata": {
    "collapsed": false
   },
   "outputs": [
    {
     "data": {
      "text/plain": [
       "0.68272972972972978"
      ]
     },
     "execution_count": 13,
     "metadata": {},
     "output_type": "execute_result"
    }
   ],
   "source": [
    "clf.score(X_train_tfidf, csv.OpenStatus)"
   ]
  },
  {
   "cell_type": "code",
   "execution_count": 14,
   "metadata": {
    "collapsed": false
   },
   "outputs": [
    {
     "data": {
      "text/plain": [
       "BernoulliNB(alpha=1.0, binarize=0.0, class_prior=None, fit_prior=True)"
      ]
     },
     "execution_count": 14,
     "metadata": {},
     "output_type": "execute_result"
    }
   ],
   "source": [
    "clf"
   ]
  },
  {
   "cell_type": "code",
   "execution_count": null,
   "metadata": {
    "collapsed": false
   },
   "outputs": [],
   "source": [
    "pipeline = Pipeline(steps=[\n",
    "  ('tfidf', TfidfVectorizer()),\n",
    "  ('bnb', BernoulliNB())\n",
    "  ])\n",
    "\n",
    "\n",
    "\n"
   ]
  },
  {
   "cell_type": "code",
   "execution_count": null,
   "metadata": {
    "collapsed": true
   },
   "outputs": [],
   "source": [
    "parameters = {'tfidf__ngram_range': [(1,1), (1,2)],\n",
    "              'tfidf__stop_words': [None, 'english'],\n",
    "              'tfidf__use_idf': [True, False],\n",
    "              'bnb__alpha': [0.0, 0.5, 1.0],\n",
    "              'bnb__binarize': [None, 0.2, 0.5, 0.7, 1.0],\n",
    "              'bnb__fit_prior': [True, False]}\n",
    "\n",
    "grid = GridSearchCV(pipeline, parameters, scoring='accuracy', cv=2, verbose=1)\n",
    "grid.fit(X, y)"
   ]
  },
  {
   "cell_type": "code",
   "execution_count": null,
   "metadata": {
    "collapsed": true
   },
   "outputs": [],
   "source": [
    "print('Best score:', grid.best_score_)\n",
    "print('Best parameters:', pprint(grid.best_params_, indent=2))\n"
   ]
  },
  {
   "cell_type": "code",
   "execution_count": null,
   "metadata": {
    "collapsed": true
   },
   "outputs": [],
   "source": []
  },
  {
   "cell_type": "code",
   "execution_count": null,
   "metadata": {
    "collapsed": true
   },
   "outputs": [],
   "source": []
  },
  {
   "cell_type": "code",
   "execution_count": null,
   "metadata": {
    "collapsed": false
   },
   "outputs": [],
   "source": [
    "grid = GridSearchCV(knn, param_grid, cv=10, scoring='accuracy')"
   ]
  },
  {
   "cell_type": "code",
   "execution_count": null,
   "metadata": {
    "collapsed": false
   },
   "outputs": [],
   "source": [
    "# fit the grid with data\n",
    "grid.fit(X_train_tfidf,csv.OpenStatus)"
   ]
  },
  {
   "cell_type": "code",
   "execution_count": null,
   "metadata": {
    "collapsed": true
   },
   "outputs": [],
   "source": []
  }
 ],
 "metadata": {
  "kernelspec": {
   "display_name": "Python 3",
   "language": "python",
   "name": "python3"
  },
  "language_info": {
   "codemirror_mode": {
    "name": "ipython",
    "version": 3
   },
   "file_extension": ".py",
   "mimetype": "text/x-python",
   "name": "python",
   "nbconvert_exporter": "python",
   "pygments_lexer": "ipython3",
   "version": "3.5.1"
  }
 },
 "nbformat": 4,
 "nbformat_minor": 0
}
